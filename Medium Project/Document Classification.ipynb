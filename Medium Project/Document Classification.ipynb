{
 "cells": [
  {
   "cell_type": "code",
   "execution_count": null,
   "metadata": {
    "colab": {
     "base_uri": "https://localhost:8080/",
     "height": 102
    },
    "colab_type": "code",
    "id": "xNPL2Mp1wP3F",
    "outputId": "14bad4c8-bf29-4b06-b558-373d3dcfad58"
   },
   "outputs": [
    {
     "name": "stdout",
     "output_type": "stream",
     "text": [
      "[nltk_data] Downloading package wordnet to /root/nltk_data...\n",
      "[nltk_data]   Package wordnet is already up-to-date!\n",
      "[nltk_data] Downloading package stopwords to /root/nltk_data...\n",
      "[nltk_data]   Package stopwords is already up-to-date!\n"
     ]
    },
    {
     "data": {
      "text/plain": [
       "True"
      ]
     },
     "execution_count": 1,
     "metadata": {
      "tags": []
     },
     "output_type": "execute_result"
    }
   ],
   "source": [
    "import pandas as pd\n",
    "import matplotlib.pyplot as plt\n",
    "import tensorflow as tf\n",
    "import numpy as np\n",
    "import time\n",
    "import nltk\n",
    "from nltk.corpus import stopwords\n",
    "from nltk.stem import WordNetLemmatizer\n",
    "from nltk.tokenize import RegexpTokenizer\n",
    "from tensorflow.keras.preprocessing.text import Tokenizer\n",
    "from tensorflow.keras.preprocessing.sequence import pad_sequences\n",
    "from tensorflow.keras.preprocessing import text_dataset_from_directory\n",
    "from tensorflow.keras.models import Sequential\n",
    "from tensorflow.keras.layers import Dense, LSTM, Conv1D, MaxPooling1D, Embedding, BatchNormalization, SpatialDropout1D\n",
    "from tensorflow.keras.callbacks import ModelCheckpoint\n",
    "from sklearn.metrics import classification_report\n",
    "from sklearn.model_selection import train_test_split\n",
    "from collections import Counter\n",
    "nltk.download('wordnet')\n",
    "nltk.download('stopwords')"
   ]
  },
  {
   "cell_type": "markdown",
   "metadata": {
    "colab_type": "text",
    "id": "2PBFBSwLdfEi"
   },
   "source": [
    "Dataset yang digunakan merupakan dataset BBC news yang mempunyai 5 kelas (business, entertainment, politics, sport, tech). \n"
   ]
  },
  {
   "cell_type": "markdown",
   "metadata": {
    "colab_type": "text",
    "id": "mPvBl-OOdqr-"
   },
   "source": [
    "Sumber: D. Greene and P. Cunningham. \"Practical Solutions to the Problem of Diagonal Dominance in Kernel Document Clustering\", Proc. ICML 2006."
   ]
  },
  {
   "cell_type": "code",
   "execution_count": null,
   "metadata": {
    "colab": {
     "base_uri": "https://localhost:8080/",
     "height": 238
    },
    "colab_type": "code",
    "id": "x2GtLFzWDOkk",
    "outputId": "85c3d8ce-b6b6-4355-ac25-e10975362c87"
   },
   "outputs": [
    {
     "name": "stdout",
     "output_type": "stream",
     "text": [
      "--2020-08-11 07:52:05--  http://mlg.ucd.ie/files/datasets/bbc-fulltext.zip\n",
      "Resolving mlg.ucd.ie (mlg.ucd.ie)... 137.43.93.132\n",
      "Connecting to mlg.ucd.ie (mlg.ucd.ie)|137.43.93.132|:80... connected.\n",
      "HTTP request sent, awaiting response... 200 OK\n",
      "Length: 2874078 (2.7M) [application/zip]\n",
      "Saving to: ‘bbc-fulltext.zip.2’\n",
      "\n",
      "bbc-fulltext.zip.2  100%[===================>]   2.74M  1.52MB/s    in 1.8s    \n",
      "\n",
      "2020-08-11 07:52:08 (1.52 MB/s) - ‘bbc-fulltext.zip.2’ saved [2874078/2874078]\n",
      "\n",
      "Archive:  bbc-fulltext.zip\n",
      "replace bbc/business/001.txt? [y]es, [n]o, [A]ll, [N]one, [r]ename: N\n"
     ]
    }
   ],
   "source": [
    "!wget 'http://mlg.ucd.ie/files/datasets/bbc-fulltext.zip'\n",
    "!unzip 'bbc-fulltext.zip'"
   ]
  },
  {
   "cell_type": "markdown",
   "metadata": {
    "colab_type": "text",
    "id": "TZGCQqhwdytj"
   },
   "source": [
    "Preprocessing teks menggunakan library NLTK dengan menghilang stopwords dan melakukan lemmatization "
   ]
  },
  {
   "cell_type": "code",
   "execution_count": null,
   "metadata": {
    "colab": {},
    "colab_type": "code",
    "id": "Sum_CcheVr8L"
   },
   "outputs": [],
   "source": [
    "def get_dataset(dir_names=\"\"):\n",
    "  dataset = text_dataset_from_directory(dir_names, batch_size=1)\n",
    "  stop_words = set(stopwords.words('english'))\n",
    "  lemmatizer = WordNetLemmatizer()\n",
    "  tokenizer = RegexpTokenizer(r'\\w+')\n",
    "  list_dataset = []\n",
    "  for bytes_text, label in dataset:\n",
    "    label = dataset.class_names[label.numpy()[0]]\n",
    "    decoded = bytes_text.numpy()[0].decode(\"utf-8\", errors='ignore')\n",
    "    text = decoded.lower().replace('\\n',' ').strip()\n",
    "    tokenized_words = tokenizer.tokenize(text)\n",
    "    cleaned_words = [word for word in tokenized_words if not word in stop_words]\n",
    "    lemma_words = [lemmatizer.lemmatize(word) for word in cleaned_words]\n",
    "    list_dataset.append([\" \".join(lemma_words), label])\n",
    "  return pd.DataFrame(list_dataset,columns=['text','category'])"
   ]
  },
  {
   "cell_type": "markdown",
   "metadata": {
    "colab_type": "text",
    "id": "-TII-IuFd-6T"
   },
   "source": [
    "Runtime menggunakan GPU Google Colab dengan tensorflow versi sebagai berikut:"
   ]
  },
  {
   "cell_type": "code",
   "execution_count": null,
   "metadata": {
    "colab": {
     "base_uri": "https://localhost:8080/",
     "height": 51
    },
    "colab_type": "code",
    "id": "QBccQHG_fsqs",
    "outputId": "a5debeb3-e60a-4a54-f658-cd120f0ddf59"
   },
   "outputs": [
    {
     "name": "stdout",
     "output_type": "stream",
     "text": [
      "Num GPUs Available:  1\n"
     ]
    },
    {
     "data": {
      "text/plain": [
       "[PhysicalDevice(name='/physical_device:GPU:0', device_type='GPU')]"
      ]
     },
     "execution_count": 4,
     "metadata": {
      "tags": []
     },
     "output_type": "execute_result"
    }
   ],
   "source": [
    "print(\"Num GPUs Available: \", len(tf.config.experimental.list_physical_devices('GPU')))\n",
    "tf.config.experimental.list_physical_devices('GPU') "
   ]
  },
  {
   "cell_type": "code",
   "execution_count": null,
   "metadata": {
    "colab": {
     "base_uri": "https://localhost:8080/",
     "height": 51
    },
    "colab_type": "code",
    "id": "QXmXT3DYwP3R",
    "outputId": "057e9464-1311-4dde-a72f-ce1042fefb00"
   },
   "outputs": [
    {
     "name": "stdout",
     "output_type": "stream",
     "text": [
      "tf version: 2.3.0\n",
      "Found 2225 files belonging to 5 classes.\n"
     ]
    }
   ],
   "source": [
    "print(\"tf version:\",tf.version.VERSION)\n",
    "dt = get_dataset('bbc')"
   ]
  },
  {
   "cell_type": "code",
   "execution_count": null,
   "metadata": {
    "colab": {
     "base_uri": "https://localhost:8080/",
     "height": 204
    },
    "colab_type": "code",
    "id": "KE8iijro1Ll6",
    "outputId": "745a6a24-ea8a-493d-de10-ecf5402dab11"
   },
   "outputs": [
    {
     "data": {
      "text/html": [
       "<div>\n",
       "<style scoped>\n",
       "    .dataframe tbody tr th:only-of-type {\n",
       "        vertical-align: middle;\n",
       "    }\n",
       "\n",
       "    .dataframe tbody tr th {\n",
       "        vertical-align: top;\n",
       "    }\n",
       "\n",
       "    .dataframe thead th {\n",
       "        text-align: right;\n",
       "    }\n",
       "</style>\n",
       "<table border=\"1\" class=\"dataframe\">\n",
       "  <thead>\n",
       "    <tr style=\"text-align: right;\">\n",
       "      <th></th>\n",
       "      <th>text</th>\n",
       "      <th>business</th>\n",
       "      <th>entertainment</th>\n",
       "      <th>politics</th>\n",
       "      <th>sport</th>\n",
       "      <th>tech</th>\n",
       "    </tr>\n",
       "  </thead>\n",
       "  <tbody>\n",
       "    <tr>\n",
       "      <th>0</th>\n",
       "      <td>lewis francis turn christie mark lewis francis...</td>\n",
       "      <td>0</td>\n",
       "      <td>0</td>\n",
       "      <td>0</td>\n",
       "      <td>1</td>\n",
       "      <td>0</td>\n",
       "    </tr>\n",
       "    <tr>\n",
       "      <th>1</th>\n",
       "      <td>reaction spanish press england 1 0 defeat spai...</td>\n",
       "      <td>0</td>\n",
       "      <td>0</td>\n",
       "      <td>0</td>\n",
       "      <td>1</td>\n",
       "      <td>0</td>\n",
       "    </tr>\n",
       "    <tr>\n",
       "      <th>2</th>\n",
       "      <td>commodore find new lease life famous commodore...</td>\n",
       "      <td>0</td>\n",
       "      <td>0</td>\n",
       "      <td>0</td>\n",
       "      <td>0</td>\n",
       "      <td>1</td>\n",
       "    </tr>\n",
       "    <tr>\n",
       "      <th>3</th>\n",
       "      <td>pop band busted take break chart topping pop b...</td>\n",
       "      <td>0</td>\n",
       "      <td>1</td>\n",
       "      <td>0</td>\n",
       "      <td>0</td>\n",
       "      <td>0</td>\n",
       "    </tr>\n",
       "    <tr>\n",
       "      <th>4</th>\n",
       "      <td>cage film third week u top nicolas cage movie ...</td>\n",
       "      <td>0</td>\n",
       "      <td>1</td>\n",
       "      <td>0</td>\n",
       "      <td>0</td>\n",
       "      <td>0</td>\n",
       "    </tr>\n",
       "  </tbody>\n",
       "</table>\n",
       "</div>"
      ],
      "text/plain": [
       "                                                text  business  ...  sport  tech\n",
       "0  lewis francis turn christie mark lewis francis...         0  ...      1     0\n",
       "1  reaction spanish press england 1 0 defeat spai...         0  ...      1     0\n",
       "2  commodore find new lease life famous commodore...         0  ...      0     1\n",
       "3  pop band busted take break chart topping pop b...         0  ...      0     0\n",
       "4  cage film third week u top nicolas cage movie ...         0  ...      0     0\n",
       "\n",
       "[5 rows x 6 columns]"
      ]
     },
     "execution_count": 6,
     "metadata": {
      "tags": []
     },
     "output_type": "execute_result"
    }
   ],
   "source": [
    "category = pd.get_dummies(dt.category)\n",
    "df_dataset = pd.concat([dt, category], axis=1)\n",
    "df_dataset = df_dataset.drop(columns='category')\n",
    "df_dataset.head()"
   ]
  },
  {
   "cell_type": "markdown",
   "metadata": {
    "colab_type": "text",
    "id": "iu0KS4mreHSy"
   },
   "source": [
    "Total dataset keselruhan berjumlah 2225 dokumen"
   ]
  },
  {
   "cell_type": "code",
   "execution_count": null,
   "metadata": {
    "colab": {
     "base_uri": "https://localhost:8080/",
     "height": 235
    },
    "colab_type": "code",
    "id": "pDJ--WuB3to8",
    "outputId": "17a0d4ed-e963-438e-b51b-4662304f1695"
   },
   "outputs": [
    {
     "data": {
      "text/html": [
       "<div>\n",
       "<style scoped>\n",
       "    .dataframe tbody tr th:only-of-type {\n",
       "        vertical-align: middle;\n",
       "    }\n",
       "\n",
       "    .dataframe tbody tr th {\n",
       "        vertical-align: top;\n",
       "    }\n",
       "\n",
       "    .dataframe thead th {\n",
       "        text-align: right;\n",
       "    }\n",
       "</style>\n",
       "<table border=\"1\" class=\"dataframe\">\n",
       "  <thead>\n",
       "    <tr style=\"text-align: right;\">\n",
       "      <th></th>\n",
       "      <th>text</th>\n",
       "    </tr>\n",
       "    <tr>\n",
       "      <th>category</th>\n",
       "      <th></th>\n",
       "    </tr>\n",
       "  </thead>\n",
       "  <tbody>\n",
       "    <tr>\n",
       "      <th>business</th>\n",
       "      <td>510</td>\n",
       "    </tr>\n",
       "    <tr>\n",
       "      <th>entertainment</th>\n",
       "      <td>386</td>\n",
       "    </tr>\n",
       "    <tr>\n",
       "      <th>politics</th>\n",
       "      <td>417</td>\n",
       "    </tr>\n",
       "    <tr>\n",
       "      <th>sport</th>\n",
       "      <td>511</td>\n",
       "    </tr>\n",
       "    <tr>\n",
       "      <th>tech</th>\n",
       "      <td>401</td>\n",
       "    </tr>\n",
       "  </tbody>\n",
       "</table>\n",
       "</div>"
      ],
      "text/plain": [
       "               text\n",
       "category           \n",
       "business        510\n",
       "entertainment   386\n",
       "politics        417\n",
       "sport           511\n",
       "tech            401"
      ]
     },
     "execution_count": 7,
     "metadata": {
      "tags": []
     },
     "output_type": "execute_result"
    }
   ],
   "source": [
    "dt.groupby(['category']).count()"
   ]
  },
  {
   "cell_type": "markdown",
   "metadata": {
    "colab_type": "text",
    "id": "tQlhvdf-eOcz"
   },
   "source": [
    "Vocabulary yang terdapat pada dataset berjumlah 26277"
   ]
  },
  {
   "cell_type": "code",
   "execution_count": null,
   "metadata": {
    "colab": {
     "base_uri": "https://localhost:8080/",
     "height": 34
    },
    "colab_type": "code",
    "id": "7K5fkt2mwP3s",
    "outputId": "f7d581a9-417d-46c5-e35a-68b6bde60d4a"
   },
   "outputs": [
    {
     "name": "stdout",
     "output_type": "stream",
     "text": [
      "total vocabulary word:  26277\n"
     ]
    }
   ],
   "source": [
    "results = Counter()\n",
    "df_dataset['text'].str.split().apply(results.update)\n",
    "print(\"total vocabulary word: \", len(results))\n",
    "vocab_count = len(results)"
   ]
  },
  {
   "cell_type": "code",
   "execution_count": null,
   "metadata": {
    "colab": {},
    "colab_type": "code",
    "id": "-ZAtQ5dAwP3y"
   },
   "outputs": [],
   "source": [
    "text = df_dataset['text'].values\n",
    "label = df_dataset[['business','entertainment','politics','sport','tech']].values"
   ]
  },
  {
   "cell_type": "code",
   "execution_count": null,
   "metadata": {
    "colab": {
     "base_uri": "https://localhost:8080/",
     "height": 34
    },
    "colab_type": "code",
    "id": "ZkPM8MZZwP34",
    "outputId": "a24d43a7-c3f5-47b0-a9ac-cedb3a2b1d16"
   },
   "outputs": [
    {
     "name": "stdout",
     "output_type": "stream",
     "text": [
      "jumlah train: 1780 , jumlah test: 445\n"
     ]
    }
   ],
   "source": [
    "text_train, text_test, label_train, label_test = train_test_split(text, label, test_size=0.2)\n",
    "print(\"jumlah train: {} , jumlah test: {}\".format(len(text_train),len(text_test)))"
   ]
  },
  {
   "cell_type": "markdown",
   "metadata": {
    "colab_type": "text",
    "id": "EG_31pbXeqJ7"
   },
   "source": [
    "Panjang maksimal teks yang diproses yaitu 500 kata dengan seluruh vocabulary dimasukkan ke dalam embedding"
   ]
  },
  {
   "cell_type": "code",
   "execution_count": null,
   "metadata": {
    "colab": {},
    "colab_type": "code",
    "id": "LTy3rvPXwP3-"
   },
   "outputs": [],
   "source": [
    "tokenizer = Tokenizer(num_words=vocab_count, oov_token='<UNK>')\n",
    "tokenizer.fit_on_texts(text_train) \n",
    "tokenizer.fit_on_texts(text_test)\n",
    "maxlen_text = 500\n",
    "seq_train = tokenizer.texts_to_sequences(text_train)\n",
    "seq_test = tokenizer.texts_to_sequences(text_test)\n",
    "pad_train = pad_sequences(seq_train,padding='post',maxlen=maxlen_text) \n",
    "pad_test = pad_sequences(seq_test,padding='post',maxlen=maxlen_text)"
   ]
  },
  {
   "cell_type": "markdown",
   "metadata": {
    "colab_type": "text",
    "id": "JwO_dWxmehyU"
   },
   "source": [
    "Callback yang digunakan yaitu ketika akurasi validasi telah mencapai lebih dari 95% maka melakukan stop training. kemudian menyimpan model dengan nilai val_acc tertinggi menggunakan ModelCheckpoint"
   ]
  },
  {
   "cell_type": "code",
   "execution_count": null,
   "metadata": {
    "colab": {},
    "colab_type": "code",
    "id": "EFGzOG6ZFjiE"
   },
   "outputs": [],
   "source": [
    "class CustomCallback(tf.keras.callbacks.Callback):\n",
    "\n",
    "  def on_train_begin(self, logs={}):\n",
    "      self.times = []\n",
    "\n",
    "  def on_epoch_begin(self, epoch, logs={}):\n",
    "      self.epoch_time_start = time.time()\n",
    "\n",
    "  def on_epoch_end(self, epoch, logs={}):\n",
    "      self.times.append(time.time() - self.epoch_time_start)\n",
    "      if(logs.get('val_accuracy')>0.95):\n",
    "        self.model.stop_training = True\n",
    "\n",
    "cust_callback = CustomCallback()"
   ]
  },
  {
   "cell_type": "markdown",
   "metadata": {
    "colab_type": "text",
    "id": "P8pZh9hgeZLz"
   },
   "source": [
    "Model yang dirancangan yaitu dengan melakukan kombinasi Convolution 1D dengan LSTM dan Dense 5 sesuai dengan jumlah kelas. SpatialDropout1D dan BatchNormalization dilakukan untuk mengurangi overfitting"
   ]
  },
  {
   "cell_type": "code",
   "execution_count": null,
   "metadata": {
    "colab": {
     "base_uri": "https://localhost:8080/",
     "height": 476
    },
    "colab_type": "code",
    "id": "_lTBKYOVwP4D",
    "outputId": "85178e28-1e53-425e-b979-cda52320116d"
   },
   "outputs": [
    {
     "name": "stdout",
     "output_type": "stream",
     "text": [
      "Model: \"sequential\"\n",
      "_________________________________________________________________\n",
      "Layer (type)                 Output Shape              Param #   \n",
      "=================================================================\n",
      "embedding (Embedding)        (None, 500, 300)          7883100   \n",
      "_________________________________________________________________\n",
      "conv1d (Conv1D)              (None, 500, 256)          4915456   \n",
      "_________________________________________________________________\n",
      "max_pooling1d (MaxPooling1D) (None, 15, 256)           0         \n",
      "_________________________________________________________________\n",
      "conv1d_1 (Conv1D)            (None, 15, 128)           524416    \n",
      "_________________________________________________________________\n",
      "max_pooling1d_1 (MaxPooling1 (None, 3, 128)            0         \n",
      "_________________________________________________________________\n",
      "spatial_dropout1d (SpatialDr (None, 3, 128)            0         \n",
      "_________________________________________________________________\n",
      "lstm (LSTM)                  (None, 256)               394240    \n",
      "_________________________________________________________________\n",
      "batch_normalization (BatchNo (None, 256)               1024      \n",
      "_________________________________________________________________\n",
      "dense (Dense)                (None, 5)                 1285      \n",
      "=================================================================\n",
      "Total params: 13,719,521\n",
      "Trainable params: 13,719,009\n",
      "Non-trainable params: 512\n",
      "_________________________________________________________________\n",
      "None\n"
     ]
    }
   ],
   "source": [
    "embedding_length = 300\n",
    "checkpoint = ModelCheckpoint('checkpoint_test.h5',\n",
    "                             monitor='val_accuracy', \n",
    "                             verbose=1,\n",
    "                             save_best_only=True,\n",
    "                             mode='max')\n",
    "model = Sequential()\n",
    "model.add(Embedding(input_dim=vocab_count,\n",
    "                    output_dim=embedding_length, \n",
    "                    input_length=maxlen_text))\n",
    "model.add(Conv1D(filters=256, kernel_size=64, padding='same', activation='relu'))\n",
    "model.add(MaxPooling1D(pool_size=32))\n",
    "model.add(Conv1D(filters=128, kernel_size=16, padding='same', activation='relu'))\n",
    "model.add(MaxPooling1D(pool_size=4))\n",
    "model.add(SpatialDropout1D(0.1))\n",
    "model.add(LSTM(256, dropout=0.1))\n",
    "model.add(BatchNormalization())\n",
    "model.add(Dense(5, activation='softmax'))\n",
    "model.compile(loss='categorical_crossentropy', \n",
    "              optimizer='adam', \n",
    "              metrics=['accuracy'])\n",
    "print(model.summary())"
   ]
  },
  {
   "cell_type": "code",
   "execution_count": null,
   "metadata": {
    "colab": {
     "base_uri": "https://localhost:8080/",
     "height": 289
    },
    "colab_type": "code",
    "id": "f4FrEgTcwP4N",
    "outputId": "85fa417e-74d1-42f3-e183-859daaf9d3de"
   },
   "outputs": [
    {
     "name": "stdout",
     "output_type": "stream",
     "text": [
      "Epoch 1/20\n",
      "56/56 [==============================] - ETA: 0s - loss: 0.9909 - accuracy: 0.5966\n",
      "Epoch 00001: val_accuracy improved from -inf to 0.90787, saving model to checkpoint_test.h5\n",
      "56/56 [==============================] - 15s 263ms/step - loss: 0.9909 - accuracy: 0.5966 - val_loss: 1.0259 - val_accuracy: 0.9079\n",
      "Epoch 2/20\n",
      "56/56 [==============================] - ETA: 0s - loss: 0.0928 - accuracy: 0.9747\n",
      "Epoch 00002: val_accuracy improved from 0.90787 to 0.94831, saving model to checkpoint_test.h5\n",
      "56/56 [==============================] - 13s 236ms/step - loss: 0.0928 - accuracy: 0.9747 - val_loss: 0.6453 - val_accuracy: 0.9483\n",
      "Epoch 3/20\n",
      "56/56 [==============================] - ETA: 0s - loss: 0.0334 - accuracy: 0.9916\n",
      "Epoch 00003: val_accuracy did not improve from 0.94831\n",
      "56/56 [==============================] - 13s 226ms/step - loss: 0.0334 - accuracy: 0.9916 - val_loss: 0.3373 - val_accuracy: 0.9461\n",
      "Epoch 4/20\n",
      "56/56 [==============================] - ETA: 0s - loss: 0.0105 - accuracy: 0.9978\n",
      "Epoch 00004: val_accuracy improved from 0.94831 to 0.95955, saving model to checkpoint_test.h5\n",
      "56/56 [==============================] - 13s 230ms/step - loss: 0.0105 - accuracy: 0.9978 - val_loss: 0.2139 - val_accuracy: 0.9596\n"
     ]
    }
   ],
   "source": [
    "num_epochs = 20\n",
    "history = model.fit(pad_train, label_train, epochs=num_epochs, \n",
    "                    callbacks=[checkpoint, cust_callback],\n",
    "                    validation_data=(pad_test, label_test), \n",
    "                    verbose=1)"
   ]
  },
  {
   "cell_type": "code",
   "execution_count": null,
   "metadata": {
    "colab": {
     "base_uri": "https://localhost:8080/",
     "height": 350
    },
    "colab_type": "code",
    "id": "ex1S8kSo53A0",
    "outputId": "6c59d101-4a11-45ad-8890-2e39df54a2a4"
   },
   "outputs": [
    {
     "data": {
      "image/png": "[encoded data removed]",
      "text/plain": [
       "<Figure size 720x360 with 1 Axes>"
      ]
     },
     "metadata": {
      "needs_background": "light",
      "tags": []
     },
     "output_type": "display_data"
    }
   ],
   "source": [
    "plt.figure(figsize=(10,5))\n",
    "plt.title('model history')\n",
    "plt.plot(history.history['accuracy'], label=\"acc\", marker='o')\n",
    "plt.plot(history.history['val_accuracy'], label=\"val_acc\", marker='o')\n",
    "plt.plot(history.history['loss'], label=\"loss\", marker=\"x\")\n",
    "plt.plot(history.history['val_loss'], label=\"val_loss\", marker=\"x\")\n",
    "plt.legend()\n",
    "plt.ylabel('value')\n",
    "plt.xlabel('epoch')\n",
    "plt.show()"
   ]
  },
  {
   "cell_type": "markdown",
   "metadata": {
    "colab_type": "text",
    "id": "0fnD9JewfG9G"
   },
   "source": [
    "Uji coba model ke dalam test data"
   ]
  },
  {
   "cell_type": "code",
   "execution_count": null,
   "metadata": {
    "colab": {
     "base_uri": "https://localhost:8080/",
     "height": 238
    },
    "colab_type": "code",
    "id": "HhJjHB4g6WU6",
    "outputId": "d8f2258a-7025-46ce-c416-9ec6517c61f9"
   },
   "outputs": [
    {
     "name": "stdout",
     "output_type": "stream",
     "text": [
      "Report on test data\n",
      "               precision    recall  f1-score   support\n",
      "\n",
      "     politics       0.93      0.95      0.94       100\n",
      "        sport       1.00      0.94      0.97        93\n",
      "     business       0.93      0.99      0.95        75\n",
      "entertainment       1.00      0.98      0.99        85\n",
      "         tech       0.95      0.96      0.95        92\n",
      "\n",
      "     accuracy                           0.96       445\n",
      "    macro avg       0.96      0.96      0.96       445\n",
      " weighted avg       0.96      0.96      0.96       445\n",
      "\n"
     ]
    }
   ],
   "source": [
    "print(\"Report on test data\")\n",
    "predictions_test = model.predict(pad_test)\n",
    "class_report = classification_report(\n",
    "    label_test.argmax(axis=1), \n",
    "    predictions_test.argmax(axis=1), \n",
    "    target_names=list(set(dt.category))\n",
    "    )\n",
    "print(class_report)"
   ]
  },
  {
   "cell_type": "markdown",
   "metadata": {
    "colab_type": "text",
    "id": "kKx_9PA3fJ7E"
   },
   "source": [
    "Uji coba model ke dalam train data"
   ]
  },
  {
   "cell_type": "code",
   "execution_count": null,
   "metadata": {
    "colab": {
     "base_uri": "https://localhost:8080/",
     "height": 238
    },
    "colab_type": "code",
    "id": "JqLWouvd9742",
    "outputId": "76fa6591-65f6-486b-9b3a-3ba17c01e2b4"
   },
   "outputs": [
    {
     "name": "stdout",
     "output_type": "stream",
     "text": [
      "Report on train data\n",
      "               precision    recall  f1-score   support\n",
      "\n",
      "     politics       1.00      1.00      1.00       410\n",
      "        sport       1.00      1.00      1.00       293\n",
      "     business       1.00      1.00      1.00       342\n",
      "entertainment       1.00      1.00      1.00       426\n",
      "         tech       1.00      1.00      1.00       309\n",
      "\n",
      "     accuracy                           1.00      1780\n",
      "    macro avg       1.00      1.00      1.00      1780\n",
      " weighted avg       1.00      1.00      1.00      1780\n",
      "\n"
     ]
    }
   ],
   "source": [
    "print(\"Report on train data\")\n",
    "predictions_train = model.predict(pad_train)\n",
    "class_report = classification_report(\n",
    "    label_train.argmax(axis=1), \n",
    "    predictions_train.argmax(axis=1), \n",
    "    target_names=list(set(dt.category))\n",
    "    )\n",
    "print(class_report)"
   ]
  },
  {
   "cell_type": "code",
   "execution_count": null,
   "metadata": {
    "colab": {
     "base_uri": "https://localhost:8080/",
     "height": 34
    },
    "colab_type": "code",
    "id": "pUjndw3RczOz",
    "outputId": "a3937084-51b8-4399-e4db-ad38ae0877f7"
   },
   "outputs": [
    {
     "name": "stdout",
     "output_type": "stream",
     "text": [
      "waktu training: 58.68137454986572 s\n"
     ]
    }
   ],
   "source": [
    "print(\"waktu training: {} s\".format(np.sum(cust_callback.times)))"
   ]
  }
 ],
 "metadata": {
  "accelerator": "GPU",
  "colab": {
   "collapsed_sections": [],
   "name": "Explore.ipynb",
   "provenance": []
  },
  "kernelspec": {
   "display_name": "Python 3",
   "language": "python",
   "name": "python3"
  },
  "language_info": {
   "codemirror_mode": {
    "name": "ipython",
    "version": 3
   },
   "file_extension": ".py",
   "mimetype": "text/x-python",
   "name": "python",
   "nbconvert_exporter": "python",
   "pygments_lexer": "ipython3",
   "version": "3.8.3"
  }
 },
 "nbformat": 4,
 "nbformat_minor": 4
}
