{
 "cells": [
  {
   "cell_type": "code",
   "execution_count": 1,
   "metadata": {
    "colab": {
     "base_uri": "https://localhost:8080/",
     "height": 122
    },
    "colab_type": "code",
    "id": "IWqy7yy3_aSw",
    "outputId": "e70533b7-58b2-47bf-8e19-2b2a1d69e6ed"
   },
   "outputs": [
    {
     "name": "stdout",
     "output_type": "stream",
     "text": [
      "Go to this URL in a browser: https://accounts.google.com/o/oauth2/auth?client_id=947318989803-6bn6qk8qdgf4n4g3pfee6491hc0brc4i.apps.googleusercontent.com&redirect_uri=urn%3aietf%3awg%3aoauth%3a2.0%3aoob&scope=email%20https%3a%2f%2fwww.googleapis.com%2fauth%2fdocs.test%20https%3a%2f%2fwww.googleapis.com%2fauth%2fdrive%20https%3a%2f%2fwww.googleapis.com%2fauth%2fdrive.photos.readonly%20https%3a%2f%2fwww.googleapis.com%2fauth%2fpeopleapi.readonly&response_type=code\n",
      "\n",
      "Enter your authorization code:\n",
      "4/4AH5m1NP6DUwzrsOx3tfmX9ddQeS3VgShCYPsLWbCveFaIfOejx1WCU\n",
      "Mounted at /content/drive\n"
     ]
    }
   ],
   "source": [
    "from google.colab import drive\n",
    "drive.mount('/content/drive')"
   ]
  },
  {
   "cell_type": "code",
   "execution_count": null,
   "metadata": {
    "colab": {},
    "colab_type": "code",
    "id": "HBG4i5gNg2S-"
   },
   "outputs": [],
   "source": [
    "!mkdir '/root/.kaggle/'\n",
    "!echo '{\"username\":\"\",\"key\":\"\"}' > /root/.kaggle/kaggle.json\n",
    "!chmod 600 /root/.kaggle/kaggle.json"
   ]
  },
  {
   "cell_type": "code",
   "execution_count": 4,
   "metadata": {
    "colab": {
     "base_uri": "https://localhost:8080/",
     "height": 68
    },
    "colab_type": "code",
    "id": "Bzu7JSHR_j8k",
    "outputId": "66d02d2f-dfc4-4601-e8ac-eab6b9b721f9"
   },
   "outputs": [
    {
     "name": "stdout",
     "output_type": "stream",
     "text": [
      "/content/drive/My Drive/Dicoding ML/transfer learning\n",
      "apparel-images-dataset.zip  dataset_apparel\t model_dicoding_akhir.h5\n",
      "apparel.ipynb\t\t    dataset_experiments\n"
     ]
    }
   ],
   "source": [
    "%cd '/content/drive/My Drive/Dicoding ML/transfer learning'\n",
    "!ls"
   ]
  },
  {
   "cell_type": "code",
   "execution_count": null,
   "metadata": {
    "colab": {
     "base_uri": "https://localhost:8080/",
     "height": 68
    },
    "colab_type": "code",
    "id": "hzeHbcv9gvAz",
    "outputId": "0888e599-d108-4d64-be13-fd8bb3d62df6"
   },
   "outputs": [
    {
     "name": "stdout",
     "output_type": "stream",
     "text": [
      "Downloading apparel-images-dataset.zip to /content/drive/My Drive/Dicoding ML/transfer learning\n",
      "100% 248M/248M [00:02<00:00, 101MB/s] \n",
      "100% 248M/248M [00:02<00:00, 87.5MB/s]\n"
     ]
    }
   ],
   "source": [
    "!kaggle datasets download -d trolukovich/apparel-images-dataset"
   ]
  },
  {
   "cell_type": "code",
   "execution_count": null,
   "metadata": {
    "colab": {},
    "colab_type": "code",
    "id": "F96jQy4Ty0EY"
   },
   "outputs": [],
   "source": [
    "!mkdir dataset_apparel\n",
    "!unzip -q 'apparel-images-dataset.zip' -d dataset_apparel"
   ]
  },
  {
   "cell_type": "code",
   "execution_count": null,
   "metadata": {
    "colab": {
     "base_uri": "https://localhost:8080/",
     "height": 51
    },
    "colab_type": "code",
    "id": "nuqWiML5z0sk",
    "outputId": "2f80810b-d72d-4cca-9942-1485e5ccc427"
   },
   "outputs": [
    {
     "name": "stdout",
     "output_type": "stream",
     "text": [
      "apparel-images-dataset.zip  dataset_apparel\t model_dicoding_akhir.h5\n",
      "apparel.ipynb\t\t    dataset_experiments\n"
     ]
    }
   ],
   "source": [
    "!mkdir dataset_experiments\n",
    "!ls"
   ]
  },
  {
   "cell_type": "code",
   "execution_count": 28,
   "metadata": {
    "colab": {},
    "colab_type": "code",
    "id": "0y5kuFFrCoDp"
   },
   "outputs": [],
   "source": [
    "exp_dir = 'dataset_experiments'\n",
    "base_dir = 'dataset_apparel'\n",
    "import re, shutil \n",
    "import os\n",
    "from tqdm import tqdm \n",
    "import numpy as np\n",
    "import matplotlib.pyplot as plt\n",
    "import seaborn as sns\n",
    "import cv2 as cv\n",
    "from sklearn.model_selection import train_test_split\n",
    "from sklearn.preprocessing import LabelBinarizer\n",
    "import tensorflow as tf\n",
    "from keras.preprocessing.image import ImageDataGenerator\n",
    "from tensorflow.keras.applications import DenseNet201"
   ]
  },
  {
   "cell_type": "code",
   "execution_count": null,
   "metadata": {
    "colab": {
     "base_uri": "https://localhost:8080/",
     "height": 425
    },
    "colab_type": "code",
    "id": "pDUwdKJAytg0",
    "outputId": "c2ba4f41-3d08-409f-eb79-66da7eb2c7a3"
   },
   "outputs": [
    {
     "name": "stderr",
     "output_type": "stream",
     "text": [
      "100%|██████████| 450/450 [03:30<00:00,  2.14it/s]\n",
      "100%|██████████| 871/871 [06:43<00:00,  2.16it/s]\n",
      "100%|██████████| 715/715 [05:47<00:00,  2.06it/s]\n",
      "100%|██████████| 766/766 [05:49<00:00,  2.19it/s]\n",
      "100%|██████████| 328/328 [02:28<00:00,  2.20it/s]\n",
      "100%|██████████| 502/502 [03:51<00:00,  2.17it/s]\n",
      "100%|██████████| 798/798 [06:05<00:00,  2.19it/s]\n",
      "100%|██████████| 741/741 [05:58<00:00,  2.07it/s]\n",
      "100%|██████████| 523/523 [04:19<00:00,  2.02it/s]\n",
      "100%|██████████| 299/299 [02:31<00:00,  1.97it/s]\n",
      "100%|██████████| 311/311 [02:37<00:00,  1.98it/s]\n",
      "100%|██████████| 464/464 [03:49<00:00,  2.02it/s]\n",
      "100%|██████████| 40/40 [00:20<00:00,  1.98it/s]\n",
      "100%|██████████| 227/227 [01:55<00:00,  1.97it/s]\n",
      "100%|██████████| 230/230 [01:58<00:00,  1.94it/s]\n",
      "100%|██████████| 455/455 [03:54<00:00,  1.94it/s]\n",
      "100%|██████████| 135/135 [01:09<00:00,  1.94it/s]\n",
      "100%|██████████| 800/800 [06:53<00:00,  1.93it/s]\n",
      "100%|██████████| 308/308 [02:37<00:00,  1.96it/s]\n",
      "100%|██████████| 610/610 [05:09<00:00,  1.97it/s]\n",
      "100%|██████████| 818/818 [06:55<00:00,  1.97it/s]\n",
      "100%|██████████| 274/274 [02:17<00:00,  2.00it/s]\n",
      "100%|██████████| 600/600 [04:55<00:00,  2.03it/s]\n",
      "100%|██████████| 120/120 [00:59<00:00,  2.03it/s]\n"
     ]
    }
   ],
   "source": [
    "for folder in os.listdir(base_dir): \n",
    "    folder_path = os.path.join(base_dir, folder)\n",
    "    class_dir = folder_path.split(os.sep)[1].split(\"_\")[1]\n",
    "    copy_dir = os.path.join(exp_dir, class_dir)\n",
    "    if not os.path.isdir(copy_dir): os.mkdir(copy_dir)\n",
    "    for img in tqdm(os.listdir(folder_path), position=0, leave=True):\n",
    "        path_img = os.path.join(folder_path, img)\n",
    "        shutil.copy2(path_img, copy_dir)"
   ]
  },
  {
   "cell_type": "code",
   "execution_count": 29,
   "metadata": {
    "colab": {
     "base_uri": "https://localhost:8080/",
     "height": 34
    },
    "colab_type": "code",
    "id": "wvgq3N9j20-U",
    "outputId": "ceb71721-cc2f-4ea6-e16e-15f77c946de3"
   },
   "outputs": [
    {
     "name": "stdout",
     "output_type": "stream",
     "text": [
      "Total by Class: {'dress': 2570, 'pants': 2789, 'shirt': 1686, 'shoes': 3418, 'shorts': 922}\n"
     ]
    }
   ],
   "source": [
    "total_image = 0\n",
    "image_count = {}\n",
    "for class_ in os.listdir(exp_dir):\n",
    "    class_dir = os.path.join(exp_dir, class_)\n",
    "    img_len = len(os.listdir(class_dir))\n",
    "    if class_ in image_count:\n",
    "      image_count[class_] += img_len\n",
    "    else:\n",
    "      image_count[class_] = img_len\n",
    "\n",
    "print(\"Total by Class:\", image_count)"
   ]
  },
  {
   "cell_type": "code",
   "execution_count": 30,
   "metadata": {
    "colab": {
     "base_uri": "https://localhost:8080/",
     "height": 34
    },
    "colab_type": "code",
    "id": "pW_XWM5x314C",
    "outputId": "8433d1b9-3f96-4b19-dd6a-2e1ede4b4044"
   },
   "outputs": [
    {
     "name": "stdout",
     "output_type": "stream",
     "text": [
      "Total seluruh gambar: 11385\n"
     ]
    }
   ],
   "source": [
    "k_count = [k for k in image_count]\n",
    "v_count = [image_count[k] for k in image_count]\n",
    "total_all_images = np.sum(v_count)\n",
    "print(\"Total seluruh gambar:\", total_all_images)"
   ]
  },
  {
   "cell_type": "code",
   "execution_count": 31,
   "metadata": {
    "colab": {
     "base_uri": "https://localhost:8080/",
     "height": 320
    },
    "colab_type": "code",
    "id": "eHP0EfwJ4tQm",
    "outputId": "7675d2ab-165e-4836-f26b-d56dbd4f1312"
   },
   "outputs": [
    {
     "data": {
      "image/png": "[encoded data removed]",
      "text/plain": [
       "<Figure size 720x360 with 1 Axes>"
      ]
     },
     "metadata": {
      "tags": []
     },
     "output_type": "display_data"
    }
   ],
   "source": [
    "plt.figure(figsize=(10,5))\n",
    "sns.barplot(k_count, v_count)\n",
    "plt.show()"
   ]
  },
  {
   "cell_type": "code",
   "execution_count": 6,
   "metadata": {
    "colab": {
     "base_uri": "https://localhost:8080/",
     "height": 102
    },
    "colab_type": "code",
    "id": "B7em2SKY6GJk",
    "outputId": "a5d10b78-c39c-493b-e9e1-aee9bc6c75ce"
   },
   "outputs": [
    {
     "name": "stderr",
     "output_type": "stream",
     "text": [
      "100%|██████████| 2570/2570 [00:13<00:00, 188.84it/s]\n",
      "100%|██████████| 2789/2789 [01:28<00:00, 31.42it/s]\n",
      "100%|██████████| 1686/1686 [16:06<00:00,  1.74it/s]\n",
      "100%|██████████| 3418/3418 [33:54<00:00,  1.68it/s]\n",
      "100%|██████████| 922/922 [09:03<00:00,  1.70it/s]\n"
     ]
    }
   ],
   "source": [
    "img_list = []\n",
    "class_list = []\n",
    "\n",
    "for class_ in os.listdir(exp_dir): \n",
    "    path_class = os.path.join(exp_dir, class_)\n",
    "    for img in tqdm(os.listdir(path_class), position=0, leave=True):\n",
    "        path_to_img = os.path.join(path_class, img)\n",
    "        image = cv.imread(path_to_img)\n",
    "        image = cv.resize(image, (128,128))\n",
    "        img_list.append(image)\n",
    "        class_list.append(class_)"
   ]
  },
  {
   "cell_type": "code",
   "execution_count": 7,
   "metadata": {
    "colab": {},
    "colab_type": "code",
    "id": "OUOJ77fY6wjM"
   },
   "outputs": [],
   "source": [
    "assert len(img_list) == len(class_list)"
   ]
  },
  {
   "cell_type": "code",
   "execution_count": 11,
   "metadata": {
    "colab": {},
    "colab_type": "code",
    "id": "35Fs-5Vt6_fU"
   },
   "outputs": [],
   "source": [
    "x_img = np.array(img_list)\n",
    "encoder = LabelBinarizer()\n",
    "y_class = encoder.fit_transform(class_list)"
   ]
  },
  {
   "cell_type": "code",
   "execution_count": 12,
   "metadata": {
    "colab": {},
    "colab_type": "code",
    "id": "XlMwHvJr7nXa"
   },
   "outputs": [],
   "source": [
    "x_train, x_test, y_train, y_test = train_test_split(\n",
    "    x_img, y_class, test_size = 0.2, shuffle=True, random_state = 42\n",
    "    )"
   ]
  },
  {
   "cell_type": "code",
   "execution_count": 13,
   "metadata": {
    "colab": {},
    "colab_type": "code",
    "id": "gS5K0u2k87w-"
   },
   "outputs": [],
   "source": [
    "\n",
    "img_datagen = ImageDataGenerator(rescale=1./255, horizontal_flip=True, \n",
    "                                 vertical_flip = True,\n",
    "                                 height_shift_range=0.1, width_shift_range=0.2,\n",
    "                                 zoom_range=0.3, shear_range=0.1,\n",
    "                                 rotation_range=90, fill_mode='nearest',\n",
    "                                 validation_split = 0.2)\n",
    "train_gen = img_datagen.flow(x_train, y_train, shuffle=True, seed=42)\n",
    "val_gen = img_datagen.flow(x_train, y_train, subset='validation', shuffle=False, seed=42)"
   ]
  },
  {
   "cell_type": "code",
   "execution_count": 19,
   "metadata": {
    "colab": {
     "base_uri": "https://localhost:8080/",
     "height": 51
    },
    "colab_type": "code",
    "id": "yP3bTYgS9oAB",
    "outputId": "5a111580-759d-43b9-a4bf-deb1f1f79d4e"
   },
   "outputs": [
    {
     "name": "stdout",
     "output_type": "stream",
     "text": [
      "Downloading data from https://storage.googleapis.com/tensorflow/keras-applications/densenet/densenet201_weights_tf_dim_ordering_tf_kernels_notop.h5\n",
      "74842112/74836368 [==============================] - 3s 0us/step\n"
     ]
    }
   ],
   "source": [
    "base_tf = DenseNet201(\n",
    "    include_top=False, weights='imagenet', input_shape=(128,128,3)\n",
    "    )\n",
    "base_tf.trainable = False"
   ]
  },
  {
   "cell_type": "code",
   "execution_count": 39,
   "metadata": {
    "colab": {
     "base_uri": "https://localhost:8080/",
     "height": 425
    },
    "colab_type": "code",
    "id": "NaYT3iCy-UQ5",
    "outputId": "10cfd4ab-622a-4d49-d4bf-3d0fc1fe7002"
   },
   "outputs": [
    {
     "name": "stdout",
     "output_type": "stream",
     "text": [
      "Model: \"sequential_2\"\n",
      "_________________________________________________________________\n",
      "Layer (type)                 Output Shape              Param #   \n",
      "=================================================================\n",
      "densenet201 (Functional)     (None, 4, 4, 1920)        18321984  \n",
      "_________________________________________________________________\n",
      "conv2d_2 (Conv2D)            (None, 3, 3, 1024)        7865344   \n",
      "_________________________________________________________________\n",
      "max_pooling2d_2 (MaxPooling2 (None, 1, 1, 1024)        0         \n",
      "_________________________________________________________________\n",
      "flatten_2 (Flatten)          (None, 1024)              0         \n",
      "_________________________________________________________________\n",
      "dropout_4 (Dropout)          (None, 1024)              0         \n",
      "_________________________________________________________________\n",
      "dense_4 (Dense)              (None, 512)               524800    \n",
      "_________________________________________________________________\n",
      "dropout_5 (Dropout)          (None, 512)               0         \n",
      "_________________________________________________________________\n",
      "dense_5 (Dense)              (None, 5)                 2565      \n",
      "=================================================================\n",
      "Total params: 26,714,693\n",
      "Trainable params: 8,392,709\n",
      "Non-trainable params: 18,321,984\n",
      "_________________________________________________________________\n"
     ]
    }
   ],
   "source": [
    "model = tf.keras.models.Sequential()\n",
    "model.add(base_tf)\n",
    "model.add(tf.keras.layers.Conv2D(1024, (2,2), activation='relu'))\n",
    "model.add(tf.keras.layers.MaxPool2D(2,2))\n",
    "model.add(tf.keras.layers.Flatten())\n",
    "model.add(tf.keras.layers.Dropout(0.2))\n",
    "model.add(tf.keras.layers.Dense(512, activation='relu'))\n",
    "model.add(tf.keras.layers.Dropout(0.2))\n",
    "model.add(tf.keras.layers.Dense(5, activation='softmax'))\n",
    "model.summary()"
   ]
  },
  {
   "cell_type": "code",
   "execution_count": 40,
   "metadata": {
    "colab": {},
    "colab_type": "code",
    "id": "zIhmTgHj-dIn"
   },
   "outputs": [],
   "source": [
    "class Stopper(tf.keras.callbacks.Callback):\n",
    "  def on_epoch_end(self, epoch, logs={}):\n",
    "    if(logs.get('accuracy')>0.93 and logs.get('val_accuracy')>0.93):\n",
    "      print(\"Stop training model got > 93% !!\")\n",
    "      self.model.stop_training = True\n",
    "\n",
    "epoch = 50\n",
    "earlystop = tf.keras.callbacks.EarlyStopping(\n",
    "    monitor='accuracy', \n",
    "    patience=10\n",
    "    )\n",
    "\n",
    "checkpoint = tf.keras.callbacks.ModelCheckpoint(\n",
    "    'model_dicoding_akhir.h5', monitor='accuracy', \n",
    "    verbose=1, save_best_only=True, mode='max'\n",
    "    )\n",
    "stopper = Stopper()"
   ]
  },
  {
   "cell_type": "code",
   "execution_count": 41,
   "metadata": {
    "colab": {
     "base_uri": "https://localhost:8080/",
     "height": 1000
    },
    "colab_type": "code",
    "id": "FqW5i3jFA8Wn",
    "outputId": "8b44d8f9-9aa2-4279-8aae-29a029a44a81"
   },
   "outputs": [
    {
     "name": "stdout",
     "output_type": "stream",
     "text": [
      "Epoch 1/50\n",
      "285/285 [==============================] - ETA: 0s - loss: 0.9261 - accuracy: 0.7698\n",
      "Epoch 00001: accuracy improved from -inf to 0.76976, saving model to model_dicoding_akhir.h5\n",
      "285/285 [==============================] - 48s 169ms/step - loss: 0.9261 - accuracy: 0.7698 - val_loss: 0.4095 - val_accuracy: 0.8611\n",
      "Epoch 2/50\n",
      "285/285 [==============================] - ETA: 0s - loss: 0.4419 - accuracy: 0.8477\n",
      "Epoch 00002: accuracy improved from 0.76976 to 0.84772, saving model to model_dicoding_akhir.h5\n",
      "285/285 [==============================] - 45s 159ms/step - loss: 0.4419 - accuracy: 0.8477 - val_loss: 0.3439 - val_accuracy: 0.8792\n",
      "Epoch 3/50\n",
      "285/285 [==============================] - ETA: 0s - loss: 0.3830 - accuracy: 0.8706\n",
      "Epoch 00003: accuracy improved from 0.84772 to 0.87055, saving model to model_dicoding_akhir.h5\n",
      "285/285 [==============================] - 45s 158ms/step - loss: 0.3830 - accuracy: 0.8706 - val_loss: 0.3200 - val_accuracy: 0.8962\n",
      "Epoch 4/50\n",
      "285/285 [==============================] - ETA: 0s - loss: 0.3713 - accuracy: 0.8741\n",
      "Epoch 00004: accuracy improved from 0.87055 to 0.87407, saving model to model_dicoding_akhir.h5\n",
      "285/285 [==============================] - 45s 159ms/step - loss: 0.3713 - accuracy: 0.8741 - val_loss: 0.3055 - val_accuracy: 0.9028\n",
      "Epoch 5/50\n",
      "285/285 [==============================] - ETA: 0s - loss: 0.3347 - accuracy: 0.8854\n",
      "Epoch 00005: accuracy improved from 0.87407 to 0.88538, saving model to model_dicoding_akhir.h5\n",
      "285/285 [==============================] - 46s 161ms/step - loss: 0.3347 - accuracy: 0.8854 - val_loss: 0.3029 - val_accuracy: 0.8924\n",
      "Epoch 6/50\n",
      "285/285 [==============================] - ETA: 0s - loss: 0.3427 - accuracy: 0.8848\n",
      "Epoch 00006: accuracy did not improve from 0.88538\n",
      "285/285 [==============================] - 43s 150ms/step - loss: 0.3427 - accuracy: 0.8848 - val_loss: 0.2866 - val_accuracy: 0.8935\n",
      "Epoch 7/50\n",
      "285/285 [==============================] - ETA: 0s - loss: 0.3270 - accuracy: 0.8887\n",
      "Epoch 00007: accuracy improved from 0.88538 to 0.88867, saving model to model_dicoding_akhir.h5\n",
      "285/285 [==============================] - 45s 158ms/step - loss: 0.3270 - accuracy: 0.8887 - val_loss: 0.2774 - val_accuracy: 0.9077\n",
      "Epoch 8/50\n",
      "285/285 [==============================] - ETA: 0s - loss: 0.3207 - accuracy: 0.8928\n",
      "Epoch 00008: accuracy improved from 0.88867 to 0.89284, saving model to model_dicoding_akhir.h5\n",
      "285/285 [==============================] - 46s 161ms/step - loss: 0.3207 - accuracy: 0.8928 - val_loss: 0.2744 - val_accuracy: 0.9066\n",
      "Epoch 9/50\n",
      "285/285 [==============================] - ETA: 0s - loss: 0.2933 - accuracy: 0.9006\n",
      "Epoch 00009: accuracy improved from 0.89284 to 0.90064, saving model to model_dicoding_akhir.h5\n",
      "285/285 [==============================] - 45s 159ms/step - loss: 0.2933 - accuracy: 0.9006 - val_loss: 0.2295 - val_accuracy: 0.9204\n",
      "Epoch 10/50\n",
      "285/285 [==============================] - ETA: 0s - loss: 0.2978 - accuracy: 0.9032\n",
      "Epoch 00010: accuracy improved from 0.90064 to 0.90316, saving model to model_dicoding_akhir.h5\n",
      "285/285 [==============================] - 45s 159ms/step - loss: 0.2978 - accuracy: 0.9032 - val_loss: 0.2590 - val_accuracy: 0.9105\n",
      "Epoch 11/50\n",
      "285/285 [==============================] - ETA: 0s - loss: 0.2987 - accuracy: 0.9014\n",
      "Epoch 00011: accuracy did not improve from 0.90316\n",
      "285/285 [==============================] - 42s 149ms/step - loss: 0.2987 - accuracy: 0.9014 - val_loss: 0.2454 - val_accuracy: 0.9165\n",
      "Epoch 12/50\n",
      "285/285 [==============================] - ETA: 0s - loss: 0.2949 - accuracy: 0.9002\n",
      "Epoch 00012: accuracy did not improve from 0.90316\n",
      "285/285 [==============================] - 43s 150ms/step - loss: 0.2949 - accuracy: 0.9002 - val_loss: 0.2621 - val_accuracy: 0.9165\n",
      "Epoch 13/50\n",
      "285/285 [==============================] - ETA: 0s - loss: 0.2820 - accuracy: 0.9032\n",
      "Epoch 00013: accuracy did not improve from 0.90316\n",
      "285/285 [==============================] - 42s 148ms/step - loss: 0.2820 - accuracy: 0.9032 - val_loss: 0.2540 - val_accuracy: 0.9154\n",
      "Epoch 14/50\n",
      "285/285 [==============================] - ETA: 0s - loss: 0.2723 - accuracy: 0.9089\n",
      "Epoch 00014: accuracy improved from 0.90316 to 0.90887, saving model to model_dicoding_akhir.h5\n",
      "285/285 [==============================] - 45s 157ms/step - loss: 0.2723 - accuracy: 0.9089 - val_loss: 0.2404 - val_accuracy: 0.9204\n",
      "Epoch 15/50\n",
      "285/285 [==============================] - ETA: 0s - loss: 0.2804 - accuracy: 0.9059\n",
      "Epoch 00015: accuracy did not improve from 0.90887\n",
      "285/285 [==============================] - 42s 149ms/step - loss: 0.2804 - accuracy: 0.9059 - val_loss: 0.2193 - val_accuracy: 0.9292\n",
      "Epoch 16/50\n",
      "285/285 [==============================] - ETA: 0s - loss: 0.2679 - accuracy: 0.9102\n",
      "Epoch 00016: accuracy improved from 0.90887 to 0.91019, saving model to model_dicoding_akhir.h5\n",
      "285/285 [==============================] - 45s 159ms/step - loss: 0.2679 - accuracy: 0.9102 - val_loss: 0.2275 - val_accuracy: 0.9226\n",
      "Epoch 17/50\n",
      "285/285 [==============================] - ETA: 0s - loss: 0.2680 - accuracy: 0.9102\n",
      "Epoch 00017: accuracy did not improve from 0.91019\n",
      "285/285 [==============================] - 43s 150ms/step - loss: 0.2680 - accuracy: 0.9102 - val_loss: 0.2291 - val_accuracy: 0.9242\n",
      "Epoch 18/50\n",
      "285/285 [==============================] - ETA: 0s - loss: 0.2686 - accuracy: 0.9089\n",
      "Epoch 00018: accuracy did not improve from 0.91019\n",
      "285/285 [==============================] - 42s 149ms/step - loss: 0.2686 - accuracy: 0.9089 - val_loss: 0.2375 - val_accuracy: 0.9264\n",
      "Epoch 19/50\n",
      "285/285 [==============================] - ETA: 0s - loss: 0.2659 - accuracy: 0.9112\n",
      "Epoch 00019: accuracy improved from 0.91019 to 0.91118, saving model to model_dicoding_akhir.h5\n",
      "285/285 [==============================] - 45s 158ms/step - loss: 0.2659 - accuracy: 0.9112 - val_loss: 0.2090 - val_accuracy: 0.9341\n",
      "Epoch 20/50\n",
      "285/285 [==============================] - ETA: 0s - loss: 0.2536 - accuracy: 0.9140\n",
      "Epoch 00020: accuracy improved from 0.91118 to 0.91403, saving model to model_dicoding_akhir.h5\n",
      "285/285 [==============================] - 45s 160ms/step - loss: 0.2536 - accuracy: 0.9140 - val_loss: 0.2079 - val_accuracy: 0.9253\n",
      "Epoch 21/50\n",
      "285/285 [==============================] - ETA: 0s - loss: 0.2514 - accuracy: 0.9192\n",
      "Epoch 00021: accuracy improved from 0.91403 to 0.91919, saving model to model_dicoding_akhir.h5\n",
      "285/285 [==============================] - 45s 158ms/step - loss: 0.2514 - accuracy: 0.9192 - val_loss: 0.2163 - val_accuracy: 0.9275\n",
      "Epoch 22/50\n",
      "285/285 [==============================] - ETA: 0s - loss: 0.2532 - accuracy: 0.9153\n",
      "Epoch 00022: accuracy did not improve from 0.91919\n",
      "285/285 [==============================] - 42s 149ms/step - loss: 0.2532 - accuracy: 0.9153 - val_loss: 0.1927 - val_accuracy: 0.9357\n",
      "Epoch 23/50\n",
      "285/285 [==============================] - ETA: 0s - loss: 0.2526 - accuracy: 0.9110\n",
      "Epoch 00023: accuracy did not improve from 0.91919\n",
      "285/285 [==============================] - 42s 148ms/step - loss: 0.2526 - accuracy: 0.9110 - val_loss: 0.2143 - val_accuracy: 0.9319\n",
      "Epoch 24/50\n",
      "285/285 [==============================] - ETA: 0s - loss: 0.2363 - accuracy: 0.9214\n",
      "Epoch 00024: accuracy improved from 0.91919 to 0.92139, saving model to model_dicoding_akhir.h5\n",
      "285/285 [==============================] - 45s 157ms/step - loss: 0.2363 - accuracy: 0.9214 - val_loss: 0.1786 - val_accuracy: 0.9379\n",
      "Epoch 25/50\n",
      "285/285 [==============================] - ETA: 0s - loss: 0.2445 - accuracy: 0.9164\n",
      "Epoch 00025: accuracy did not improve from 0.92139\n",
      "285/285 [==============================] - 43s 150ms/step - loss: 0.2445 - accuracy: 0.9164 - val_loss: 0.1914 - val_accuracy: 0.9308\n",
      "Epoch 26/50\n",
      "285/285 [==============================] - ETA: 0s - loss: 0.2490 - accuracy: 0.9141\n",
      "Epoch 00026: accuracy did not improve from 0.92139\n",
      "285/285 [==============================] - 42s 148ms/step - loss: 0.2490 - accuracy: 0.9141 - val_loss: 0.1936 - val_accuracy: 0.9352\n",
      "Epoch 27/50\n",
      "285/285 [==============================] - ETA: 0s - loss: 0.2461 - accuracy: 0.9190\n",
      "Epoch 00027: accuracy did not improve from 0.92139\n",
      "285/285 [==============================] - 42s 148ms/step - loss: 0.2461 - accuracy: 0.9190 - val_loss: 0.1966 - val_accuracy: 0.9379\n",
      "Epoch 28/50\n",
      "285/285 [==============================] - ETA: 0s - loss: 0.2400 - accuracy: 0.9219\n",
      "Epoch 00028: accuracy improved from 0.92139 to 0.92194, saving model to model_dicoding_akhir.h5\n",
      "285/285 [==============================] - 45s 158ms/step - loss: 0.2400 - accuracy: 0.9219 - val_loss: 0.1915 - val_accuracy: 0.9352\n",
      "Epoch 29/50\n",
      "285/285 [==============================] - ETA: 0s - loss: 0.2445 - accuracy: 0.9160\n",
      "Epoch 00029: accuracy did not improve from 0.92194\n",
      "285/285 [==============================] - 43s 150ms/step - loss: 0.2445 - accuracy: 0.9160 - val_loss: 0.2441 - val_accuracy: 0.9209\n",
      "Epoch 30/50\n",
      "285/285 [==============================] - ETA: 0s - loss: 0.2418 - accuracy: 0.9205\n",
      "Epoch 00030: accuracy did not improve from 0.92194\n",
      "285/285 [==============================] - 42s 147ms/step - loss: 0.2418 - accuracy: 0.9205 - val_loss: 0.1900 - val_accuracy: 0.9352\n",
      "Epoch 31/50\n",
      "285/285 [==============================] - ETA: 0s - loss: 0.2326 - accuracy: 0.9230\n",
      "Epoch 00031: accuracy improved from 0.92194 to 0.92303, saving model to model_dicoding_akhir.h5\n",
      "285/285 [==============================] - 45s 158ms/step - loss: 0.2326 - accuracy: 0.9230 - val_loss: 0.1925 - val_accuracy: 0.9385\n",
      "Epoch 32/50\n",
      "285/285 [==============================] - ETA: 0s - loss: 0.2287 - accuracy: 0.9236\n",
      "Epoch 00032: accuracy improved from 0.92303 to 0.92358, saving model to model_dicoding_akhir.h5\n",
      "285/285 [==============================] - 45s 160ms/step - loss: 0.2287 - accuracy: 0.9236 - val_loss: 0.1950 - val_accuracy: 0.9352\n",
      "Epoch 33/50\n",
      "285/285 [==============================] - ETA: 0s - loss: 0.2384 - accuracy: 0.9202\n",
      "Epoch 00033: accuracy did not improve from 0.92358\n",
      "285/285 [==============================] - 43s 150ms/step - loss: 0.2384 - accuracy: 0.9202 - val_loss: 0.1922 - val_accuracy: 0.9357\n",
      "Epoch 34/50\n",
      "285/285 [==============================] - ETA: 0s - loss: 0.2326 - accuracy: 0.9206\n",
      "Epoch 00034: accuracy did not improve from 0.92358\n",
      "285/285 [==============================] - 42s 148ms/step - loss: 0.2326 - accuracy: 0.9206 - val_loss: 0.1664 - val_accuracy: 0.9412\n",
      "Epoch 35/50\n",
      "285/285 [==============================] - ETA: 0s - loss: 0.2218 - accuracy: 0.9296\n",
      "Epoch 00035: accuracy improved from 0.92358 to 0.92962, saving model to model_dicoding_akhir.h5\n",
      "285/285 [==============================] - 45s 157ms/step - loss: 0.2218 - accuracy: 0.9296 - val_loss: 0.1806 - val_accuracy: 0.9368\n",
      "Epoch 36/50\n",
      "285/285 [==============================] - ETA: 0s - loss: 0.2349 - accuracy: 0.9217\n",
      "Epoch 00036: accuracy did not improve from 0.92962\n",
      "285/285 [==============================] - 43s 149ms/step - loss: 0.2349 - accuracy: 0.9217 - val_loss: 0.1565 - val_accuracy: 0.9478\n",
      "Epoch 37/50\n",
      "285/285 [==============================] - ETA: 0s - loss: 0.2192 - accuracy: 0.9252\n",
      "Epoch 00037: accuracy did not improve from 0.92962\n",
      "285/285 [==============================] - 42s 147ms/step - loss: 0.2192 - accuracy: 0.9252 - val_loss: 0.1705 - val_accuracy: 0.9401\n",
      "Epoch 38/50\n",
      "285/285 [==============================] - ETA: 0s - loss: 0.2345 - accuracy: 0.9179\n",
      "Epoch 00038: accuracy did not improve from 0.92962\n",
      "285/285 [==============================] - 43s 149ms/step - loss: 0.2345 - accuracy: 0.9179 - val_loss: 0.1656 - val_accuracy: 0.9478\n",
      "Epoch 39/50\n",
      "285/285 [==============================] - ETA: 0s - loss: 0.2117 - accuracy: 0.9292\n",
      "Epoch 00039: accuracy did not improve from 0.92962\n",
      "285/285 [==============================] - 42s 148ms/step - loss: 0.2117 - accuracy: 0.9292 - val_loss: 0.1994 - val_accuracy: 0.9286\n",
      "Epoch 40/50\n",
      "285/285 [==============================] - ETA: 0s - loss: 0.2272 - accuracy: 0.9212\n",
      "Epoch 00040: accuracy did not improve from 0.92962\n",
      "285/285 [==============================] - 42s 147ms/step - loss: 0.2272 - accuracy: 0.9212 - val_loss: 0.1711 - val_accuracy: 0.9412\n",
      "Epoch 41/50\n",
      "285/285 [==============================] - ETA: 0s - loss: 0.2160 - accuracy: 0.9300\n",
      "Epoch 00041: accuracy improved from 0.92962 to 0.92995, saving model to model_dicoding_akhir.h5\n",
      "285/285 [==============================] - 46s 160ms/step - loss: 0.2160 - accuracy: 0.9300 - val_loss: 0.1639 - val_accuracy: 0.9478\n",
      "Epoch 42/50\n",
      "285/285 [==============================] - ETA: 0s - loss: 0.2127 - accuracy: 0.9278\n",
      "Epoch 00042: accuracy did not improve from 0.92995\n",
      "285/285 [==============================] - 43s 149ms/step - loss: 0.2127 - accuracy: 0.9278 - val_loss: 0.1638 - val_accuracy: 0.9462\n",
      "Epoch 43/50\n",
      "285/285 [==============================] - ETA: 0s - loss: 0.2139 - accuracy: 0.9280\n",
      "Epoch 00043: accuracy did not improve from 0.92995\n",
      "285/285 [==============================] - 42s 148ms/step - loss: 0.2139 - accuracy: 0.9280 - val_loss: 0.1634 - val_accuracy: 0.9484\n",
      "Epoch 44/50\n",
      "285/285 [==============================] - ETA: 0s - loss: 0.2228 - accuracy: 0.9227\n",
      "Epoch 00044: accuracy did not improve from 0.92995\n",
      "285/285 [==============================] - 42s 149ms/step - loss: 0.2228 - accuracy: 0.9227 - val_loss: 0.1820 - val_accuracy: 0.9341\n",
      "Epoch 45/50\n",
      "285/285 [==============================] - ETA: 0s - loss: 0.2080 - accuracy: 0.9320\n",
      "Epoch 00045: accuracy improved from 0.92995 to 0.93204, saving model to model_dicoding_akhir.h5\n",
      "Stop training model got > 93% !!\n",
      "285/285 [==============================] - 45s 158ms/step - loss: 0.2080 - accuracy: 0.9320 - val_loss: 0.1886 - val_accuracy: 0.9336\n"
     ]
    }
   ],
   "source": [
    "model.compile(optimizer=tf.keras.optimizers.Adam(learning_rate=0.001),\n",
    "              loss='categorical_crossentropy',\n",
    "              metrics=['accuracy']\n",
    "              )\n",
    "history = model.fit(train_gen, \n",
    "          epochs=epoch,\n",
    "          batch_size = 256,\n",
    "          callbacks=[checkpoint,earlystop,stopper],\n",
    "          validation_data=val_gen\n",
    "          )"
   ]
  },
  {
   "cell_type": "code",
   "execution_count": 42,
   "metadata": {
    "colab": {
     "base_uri": "https://localhost:8080/",
     "height": 299
    },
    "colab_type": "code",
    "id": "XyiilMifCI8O",
    "outputId": "6c0b314a-3234-40b3-e25c-bd064ce4a678"
   },
   "outputs": [
    {
     "data": {
      "image/png": "[encoded data removed]",
      "text/plain": [
       "<Figure size 432x288 with 1 Axes>"
      ]
     },
     "metadata": {
      "tags": []
     },
     "output_type": "display_data"
    }
   ],
   "source": [
    "plt.style.use(\"ggplot\")\n",
    "plt.figure()\n",
    "H = history\n",
    "acc = H.history[\"accuracy\"]\n",
    "val_acc = H.history[\"val_accuracy\"]\n",
    "plt.plot(np.arange(0, len(acc)), acc, label=\"train acc\")\n",
    "plt.plot(np.arange(0, len(val_acc)), val_acc, label=\"validation acc\")\n",
    "plt.title(\"Accuracy Plot\")\n",
    "plt.xlabel(\"Epoch #\")\n",
    "plt.ylabel(\"Acc\")\n",
    "plt.legend()\n",
    "plt.show()"
   ]
  },
  {
   "cell_type": "code",
   "execution_count": 43,
   "metadata": {
    "colab": {
     "base_uri": "https://localhost:8080/",
     "height": 299
    },
    "colab_type": "code",
    "id": "-EJ58YmIKwuj",
    "outputId": "6bb2a00f-a616-4cbd-f584-498a825fa00c"
   },
   "outputs": [
    {
     "data": {
      "image/png": "[encoded data removed]",
      "text/plain": [
       "<Figure size 432x288 with 1 Axes>"
      ]
     },
     "metadata": {
      "tags": []
     },
     "output_type": "display_data"
    }
   ],
   "source": [
    "plt.style.use(\"ggplot\")\n",
    "plt.figure()\n",
    "loss = H.history[\"loss\"]\n",
    "val_loss = H.history[\"val_loss\"]\n",
    "plt.plot(np.arange(0, len(loss)), loss, label=\"train loss\")\n",
    "plt.plot(np.arange(0, len(val_loss)), val_loss, label=\"val loss\")\n",
    "plt.title(\"Loss Plot\")\n",
    "plt.xlabel(\"Epoch #\")\n",
    "plt.ylabel(\"Loss\")\n",
    "plt.legend()\n",
    "plt.show()"
   ]
  },
  {
   "cell_type": "code",
   "execution_count": 44,
   "metadata": {
    "colab": {
     "base_uri": "https://localhost:8080/",
     "height": 51
    },
    "colab_type": "code",
    "id": "lNK9yJG2Kx5w",
    "outputId": "72f6cc07-c7fe-4777-d348-962ce26f236b"
   },
   "outputs": [
    {
     "name": "stdout",
     "output_type": "stream",
     "text": [
      "INFO:tensorflow:Assets written to: /tmp/tmppx778zfy/assets\n"
     ]
    },
    {
     "name": "stderr",
     "output_type": "stream",
     "text": [
      "INFO:tensorflow:Assets written to: /tmp/tmppx778zfy/assets\n"
     ]
    }
   ],
   "source": [
    "converter = tf.lite.TFLiteConverter.from_keras_model(model)\n",
    "tflite_model = converter.convert()\n",
    "with tf.io.gfile.GFile('model.tflite', 'wb') as f:\n",
    "  f.write(tflite_model)"
   ]
  },
  {
   "cell_type": "code",
   "execution_count": 45,
   "metadata": {
    "colab": {
     "base_uri": "https://localhost:8080/",
     "height": 68
    },
    "colab_type": "code",
    "id": "5PNAkVo0K0lr",
    "outputId": "71797ce6-5cfb-4e21-96ce-a5fd50885f43"
   },
   "outputs": [
    {
     "name": "stdout",
     "output_type": "stream",
     "text": [
      "Evaluate on test data\n",
      "72/72 [==============================] - 4s 53ms/step - loss: 0.1320 - accuracy: 0.9640\n",
      "test loss, test acc: [0.13196547329425812, 0.9639877080917358]\n"
     ]
    }
   ],
   "source": [
    "print(\"Evaluate on test data\")\n",
    "test_gen = ImageDataGenerator(rescale=1./255).flow(x_test, y_test)\n",
    "results = model.evaluate(test_gen)\n",
    "print(\"test loss, test acc:\", results)"
   ]
  },
  {
   "cell_type": "code",
   "execution_count": null,
   "metadata": {
    "colab": {},
    "colab_type": "code",
    "id": "jIUe574hFL9S"
   },
   "outputs": [],
   "source": []
  }
 ],
 "metadata": {
  "accelerator": "GPU",
  "colab": {
   "collapsed_sections": [],
   "name": "apparel.ipynb",
   "provenance": []
  },
  "kernelspec": {
   "display_name": "Python 3",
   "language": "python",
   "name": "python3"
  },
  "language_info": {
   "codemirror_mode": {
    "name": "ipython",
    "version": 3
   },
   "file_extension": ".py",
   "mimetype": "text/x-python",
   "name": "python",
   "nbconvert_exporter": "python",
   "pygments_lexer": "ipython3",
   "version": "3.8.3"
  }
 },
 "nbformat": 4,
 "nbformat_minor": 4
}
