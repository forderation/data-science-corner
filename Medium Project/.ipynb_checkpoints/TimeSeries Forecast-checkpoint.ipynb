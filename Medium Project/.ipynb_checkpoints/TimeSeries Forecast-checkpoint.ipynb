{
  "nbformat": 4,
  "nbformat_minor": 0,
  "metadata": {
    "colab": {
      "name": "Forecasting Submission.ipynb",
      "provenance": [],
      "collapsed_sections": []
    },
    "kernelspec": {
      "name": "python3",
      "display_name": "Python 3"
    },
    "accelerator": "GPU"
  },
  "cells": [
    {
      "cell_type": "code",
      "metadata": {
        "id": "97u7ZipRax-E",
        "colab_type": "code",
        "colab": {
          "base_uri": "https://localhost:8080/",
          "height": 408
        },
        "outputId": "5b221d34-d87a-41db-d593-53abc4fef090"
      },
      "source": [
        "!wget 'https://s3.amazonaws.com/keras-datasets/jena_climate_2009_2016.csv.zip'\n",
        "!unzip 'jena_climate_2009_2016.csv'\n",
        "!ls"
      ],
      "execution_count": 1,
      "outputs": [
        {
          "output_type": "stream",
          "text": [
            "--2020-08-23 15:22:37--  https://s3.amazonaws.com/keras-datasets/jena_climate_2009_2016.csv.zip\n",
            "Resolving s3.amazonaws.com (s3.amazonaws.com)... 52.216.228.147\n",
            "Connecting to s3.amazonaws.com (s3.amazonaws.com)|52.216.228.147|:443... connected.\n",
            "HTTP request sent, awaiting response... 200 OK\n",
            "Length: 13568290 (13M) [application/zip]\n",
            "Saving to: ‘jena_climate_2009_2016.csv.zip.5’\n",
            "\n",
            "jena_climate_2009_2 100%[===================>]  12.94M  14.1MB/s    in 0.9s    \n",
            "\n",
            "2020-08-23 15:22:38 (14.1 MB/s) - ‘jena_climate_2009_2016.csv.zip.5’ saved [13568290/13568290]\n",
            "\n",
            "Archive:  jena_climate_2009_2016.csv\n",
            "  End-of-central-directory signature not found.  Either this file is not\n",
            "  a zipfile, or it constitutes one disk of a multi-part archive.  In the\n",
            "  latter case the central directory and zipfile comment will be found on\n",
            "  the last disk(s) of this archive.\n",
            "Archive:  jena_climate_2009_2016.csv.zip\n",
            "replace jena_climate_2009_2016.csv? [y]es, [n]o, [A]ll, [N]one, [r]ename: N\n",
            "checkpoin_timerseries.h5\t  jena_climate_2009_2016.csv.zip.3\n",
            "jena_climate_2009_2016.csv\t  jena_climate_2009_2016.csv.zip.4\n",
            "jena_climate_2009_2016.csv.zip\t  jena_climate_2009_2016.csv.zip.5\n",
            "jena_climate_2009_2016.csv.zip.1  sample_data\n",
            "jena_climate_2009_2016.csv.zip.2\n"
          ],
          "name": "stdout"
        }
      ]
    },
    {
      "cell_type": "code",
      "metadata": {
        "id": "29Xs9JD025FT",
        "colab_type": "code",
        "colab": {
          "base_uri": "https://localhost:8080/",
          "height": 71
        },
        "outputId": "8b9e6bec-5a25-4c5f-b690-ffa3c8124457"
      },
      "source": [
        "import pandas as pd\n",
        "import matplotlib.pyplot as plt \n",
        "import seaborn as sns\n",
        "import numpy as np\n",
        "import time\n",
        "from datetime import datetime\n",
        "from tensorflow.keras.models import Sequential\n",
        "from tensorflow.keras.preprocessing.sequence import TimeseriesGenerator\n",
        "from tensorflow.keras.layers import LSTM, Dense, GRU\n",
        "from tensorflow.keras.losses import Huber\n",
        "from tensorflow.keras.callbacks import ModelCheckpoint, EarlyStopping, Callback\n",
        "from tensorflow.keras.optimizers import Adam\n",
        "from sklearn.metrics import mean_absolute_error"
      ],
      "execution_count": 2,
      "outputs": [
        {
          "output_type": "stream",
          "text": [
            "/usr/local/lib/python3.6/dist-packages/statsmodels/tools/_testing.py:19: FutureWarning: pandas.util.testing is deprecated. Use the functions in the public API at pandas.testing instead.\n",
            "  import pandas.util.testing as tm\n"
          ],
          "name": "stderr"
        }
      ]
    },
    {
      "cell_type": "code",
      "metadata": {
        "id": "nbRv3k8OC3_Z",
        "colab_type": "code",
        "colab": {
          "base_uri": "https://localhost:8080/",
          "height": 337
        },
        "outputId": "c37cde5a-3f15-4270-fc3c-5dd4833b2685"
      },
      "source": [
        "df = pd.read_csv('jena_climate_2009_2016.csv')\n",
        "df['Date Time'] = df['Date Time'].apply(lambda x: datetime.strptime(x, \"%d.%m.%Y %H:%M:%S\"))\n",
        "df.index = df['Date Time']\n",
        "df.drop(labels=['Date Time'], axis = 1, inplace=True)\n",
        "df.index.name = \"Date Time\"\n",
        "df.head()"
      ],
      "execution_count": 3,
      "outputs": [
        {
          "output_type": "execute_result",
          "data": {
            "text/html": [
              "<div>\n",
              "<style scoped>\n",
              "    .dataframe tbody tr th:only-of-type {\n",
              "        vertical-align: middle;\n",
              "    }\n",
              "\n",
              "    .dataframe tbody tr th {\n",
              "        vertical-align: top;\n",
              "    }\n",
              "\n",
              "    .dataframe thead th {\n",
              "        text-align: right;\n",
              "    }\n",
              "</style>\n",
              "<table border=\"1\" class=\"dataframe\">\n",
              "  <thead>\n",
              "    <tr style=\"text-align: right;\">\n",
              "      <th></th>\n",
              "      <th>p (mbar)</th>\n",
              "      <th>T (degC)</th>\n",
              "      <th>Tpot (K)</th>\n",
              "      <th>Tdew (degC)</th>\n",
              "      <th>rh (%)</th>\n",
              "      <th>VPmax (mbar)</th>\n",
              "      <th>VPact (mbar)</th>\n",
              "      <th>VPdef (mbar)</th>\n",
              "      <th>sh (g/kg)</th>\n",
              "      <th>H2OC (mmol/mol)</th>\n",
              "      <th>rho (g/m**3)</th>\n",
              "      <th>wv (m/s)</th>\n",
              "      <th>max. wv (m/s)</th>\n",
              "      <th>wd (deg)</th>\n",
              "    </tr>\n",
              "    <tr>\n",
              "      <th>Date Time</th>\n",
              "      <th></th>\n",
              "      <th></th>\n",
              "      <th></th>\n",
              "      <th></th>\n",
              "      <th></th>\n",
              "      <th></th>\n",
              "      <th></th>\n",
              "      <th></th>\n",
              "      <th></th>\n",
              "      <th></th>\n",
              "      <th></th>\n",
              "      <th></th>\n",
              "      <th></th>\n",
              "      <th></th>\n",
              "    </tr>\n",
              "  </thead>\n",
              "  <tbody>\n",
              "    <tr>\n",
              "      <th>2009-01-01 00:10:00</th>\n",
              "      <td>996.52</td>\n",
              "      <td>-8.02</td>\n",
              "      <td>265.40</td>\n",
              "      <td>-8.90</td>\n",
              "      <td>93.3</td>\n",
              "      <td>3.33</td>\n",
              "      <td>3.11</td>\n",
              "      <td>0.22</td>\n",
              "      <td>1.94</td>\n",
              "      <td>3.12</td>\n",
              "      <td>1307.75</td>\n",
              "      <td>1.03</td>\n",
              "      <td>1.75</td>\n",
              "      <td>152.3</td>\n",
              "    </tr>\n",
              "    <tr>\n",
              "      <th>2009-01-01 00:20:00</th>\n",
              "      <td>996.57</td>\n",
              "      <td>-8.41</td>\n",
              "      <td>265.01</td>\n",
              "      <td>-9.28</td>\n",
              "      <td>93.4</td>\n",
              "      <td>3.23</td>\n",
              "      <td>3.02</td>\n",
              "      <td>0.21</td>\n",
              "      <td>1.89</td>\n",
              "      <td>3.03</td>\n",
              "      <td>1309.80</td>\n",
              "      <td>0.72</td>\n",
              "      <td>1.50</td>\n",
              "      <td>136.1</td>\n",
              "    </tr>\n",
              "    <tr>\n",
              "      <th>2009-01-01 00:30:00</th>\n",
              "      <td>996.53</td>\n",
              "      <td>-8.51</td>\n",
              "      <td>264.91</td>\n",
              "      <td>-9.31</td>\n",
              "      <td>93.9</td>\n",
              "      <td>3.21</td>\n",
              "      <td>3.01</td>\n",
              "      <td>0.20</td>\n",
              "      <td>1.88</td>\n",
              "      <td>3.02</td>\n",
              "      <td>1310.24</td>\n",
              "      <td>0.19</td>\n",
              "      <td>0.63</td>\n",
              "      <td>171.6</td>\n",
              "    </tr>\n",
              "    <tr>\n",
              "      <th>2009-01-01 00:40:00</th>\n",
              "      <td>996.51</td>\n",
              "      <td>-8.31</td>\n",
              "      <td>265.12</td>\n",
              "      <td>-9.07</td>\n",
              "      <td>94.2</td>\n",
              "      <td>3.26</td>\n",
              "      <td>3.07</td>\n",
              "      <td>0.19</td>\n",
              "      <td>1.92</td>\n",
              "      <td>3.08</td>\n",
              "      <td>1309.19</td>\n",
              "      <td>0.34</td>\n",
              "      <td>0.50</td>\n",
              "      <td>198.0</td>\n",
              "    </tr>\n",
              "    <tr>\n",
              "      <th>2009-01-01 00:50:00</th>\n",
              "      <td>996.51</td>\n",
              "      <td>-8.27</td>\n",
              "      <td>265.15</td>\n",
              "      <td>-9.04</td>\n",
              "      <td>94.1</td>\n",
              "      <td>3.27</td>\n",
              "      <td>3.08</td>\n",
              "      <td>0.19</td>\n",
              "      <td>1.92</td>\n",
              "      <td>3.09</td>\n",
              "      <td>1309.00</td>\n",
              "      <td>0.32</td>\n",
              "      <td>0.63</td>\n",
              "      <td>214.3</td>\n",
              "    </tr>\n",
              "  </tbody>\n",
              "</table>\n",
              "</div>"
            ],
            "text/plain": [
              "                     p (mbar)  T (degC)  ...  max. wv (m/s)  wd (deg)\n",
              "Date Time                                ...                         \n",
              "2009-01-01 00:10:00    996.52     -8.02  ...           1.75     152.3\n",
              "2009-01-01 00:20:00    996.57     -8.41  ...           1.50     136.1\n",
              "2009-01-01 00:30:00    996.53     -8.51  ...           0.63     171.6\n",
              "2009-01-01 00:40:00    996.51     -8.31  ...           0.50     198.0\n",
              "2009-01-01 00:50:00    996.51     -8.27  ...           0.63     214.3\n",
              "\n",
              "[5 rows x 14 columns]"
            ]
          },
          "metadata": {
            "tags": []
          },
          "execution_count": 3
        }
      ]
    },
    {
      "cell_type": "code",
      "metadata": {
        "id": "gPv2LCIBDyLo",
        "colab_type": "code",
        "colab": {
          "base_uri": "https://localhost:8080/",
          "height": 336
        },
        "outputId": "a3af2255-cc70-4677-eb46-a41e5f79d1c0"
      },
      "source": [
        "# data yang digunakan berjumlah 100000 timestamp\n",
        "df_used = df['T (degC)'].iloc[-100000:]\n",
        "plt.figure(figsize=(15,5))\n",
        "plt.plot(df_used.index, df_used)\n",
        "plt.title('Plot Grafik Suhu')\n",
        "plt.show()"
      ],
      "execution_count": 4,
      "outputs": [
        {
          "output_type": "display_data",
          "data": {
            "image/png": "[encoded data removed]",
            "text/plain": [
              "<Figure size 1080x360 with 1 Axes>"
            ]
          },
          "metadata": {
            "tags": [],
            "needs_background": "light"
          }
        }
      ]
    },
    {
      "cell_type": "code",
      "metadata": {
        "id": "r9L2N8QC3sAg",
        "colab_type": "code",
        "colab": {}
      },
      "source": [
        "split_fraction = 0.8\n",
        "train_split = int(split_fraction * int(df_used.shape[0]))\n",
        "step = 6\n",
        "past = 288\n",
        "future = 16"
      ],
      "execution_count": 5,
      "outputs": []
    },
    {
      "cell_type": "code",
      "metadata": {
        "id": "bChytHkyj5Ji",
        "colab_type": "code",
        "colab": {}
      },
      "source": [
        "# fungsi normalisasi dilakukan hanya pada data train\n",
        "def normalize(data, train_split):\n",
        "    data_mean = data[0:train_split - 1].mean(axis=0)\n",
        "    data_std = data[0:train_split - 1].std(axis=0)\n",
        "    return (data - data_mean) / data_std"
      ],
      "execution_count": 6,
      "outputs": []
    },
    {
      "cell_type": "code",
      "metadata": {
        "id": "5ZEPLNzgjeY0",
        "colab_type": "code",
        "colab": {
          "base_uri": "https://localhost:8080/",
          "height": 153
        },
        "outputId": "5b137cf3-eb40-46e0-e5ef-8e2b28e22fbb"
      },
      "source": [
        "print(\"sebelum dilakukan normalisasi: \\n\",df_used.head())"
      ],
      "execution_count": 7,
      "outputs": [
        {
          "output_type": "stream",
          "text": [
            "sebelum dilakukan normalisasi: \n",
            " Date Time\n",
            "2015-02-03 11:20:00    1.53\n",
            "2015-02-03 11:30:00    1.72\n",
            "2015-02-03 11:40:00    1.94\n",
            "2015-02-03 11:50:00    2.03\n",
            "2015-02-03 12:00:00    1.91\n",
            "Name: T (degC), dtype: float64\n"
          ],
          "name": "stdout"
        }
      ]
    },
    {
      "cell_type": "code",
      "metadata": {
        "id": "AGLXSEQAjs6B",
        "colab_type": "code",
        "colab": {
          "base_uri": "https://localhost:8080/",
          "height": 119
        },
        "outputId": "5abd7d60-5cf3-48d9-a8cf-155da87b10f9"
      },
      "source": [
        "series_normed = normalize(df_used.values, train_split)\n",
        "series_normed = pd.DataFrame(series_normed)\n",
        "print(\"setelah dilakukan normalisasi\",series_normed.head())"
      ],
      "execution_count": 8,
      "outputs": [
        {
          "output_type": "stream",
          "text": [
            "setelah dilakukan normalisasi           0\n",
            "0 -1.185265\n",
            "1 -1.161194\n",
            "2 -1.133322\n",
            "3 -1.121920\n",
            "4 -1.137123\n"
          ],
          "name": "stdout"
        }
      ]
    },
    {
      "cell_type": "code",
      "metadata": {
        "id": "pV7lQ7t2CraZ",
        "colab_type": "code",
        "colab": {
          "base_uri": "https://localhost:8080/",
          "height": 51
        },
        "outputId": "9874ead6-113e-4154-8231-e42e876cd106"
      },
      "source": [
        "train_data = (series_normed.loc[0 : train_split - 1]).values.reshape(-1)\n",
        "val_data = (series_normed.loc[train_split:]).values.reshape(-1)\n",
        "print(\"jumlah training data \", len(train_data))\n",
        "print(\"jumlah validasi data \", len(val_data))"
      ],
      "execution_count": 9,
      "outputs": [
        {
          "output_type": "stream",
          "text": [
            "jumlah training data  80000\n",
            "jumlah validasi data  20000\n"
          ],
          "name": "stdout"
        }
      ]
    },
    {
      "cell_type": "code",
      "metadata": {
        "id": "37AchHLDlu4I",
        "colab_type": "code",
        "colab": {}
      },
      "source": [
        "input_length = 10\n",
        "n_feature = 1\n",
        "batch_size = 128"
      ],
      "execution_count": 10,
      "outputs": []
    },
    {
      "cell_type": "code",
      "metadata": {
        "id": "DmVJ3zoAkHm6",
        "colab_type": "code",
        "colab": {}
      },
      "source": [
        "train_generator = TimeseriesGenerator(train_data, train_data, length=input_length, batch_size=batch_size)"
      ],
      "execution_count": 11,
      "outputs": []
    },
    {
      "cell_type": "code",
      "metadata": {
        "id": "UycZ0oc0ltO0",
        "colab_type": "code",
        "colab": {}
      },
      "source": [
        "val_generator = TimeseriesGenerator(val_data, val_data, length=input_length, batch_size=batch_size)"
      ],
      "execution_count": 12,
      "outputs": []
    },
    {
      "cell_type": "code",
      "metadata": {
        "id": "HXe26QatqsZU",
        "colab_type": "code",
        "colab": {
          "base_uri": "https://localhost:8080/",
          "height": 51
        },
        "outputId": "9e8d0bab-fdb2-46f5-f0ea-c8ff303a38cf"
      },
      "source": [
        "for tr,_ in train_generator:\n",
        "  input_shape_train = tr.shape\n",
        "  break\n",
        "for tr,_ in val_generator:\n",
        "  input_shape_val = tr.shape\n",
        "  break\n",
        "print(\"Input shape train: \", input_shape_train)\n",
        "print(\"Input shape val: \", input_shape_val)\n",
        "assert input_shape_train==input_shape_val"
      ],
      "execution_count": 13,
      "outputs": [
        {
          "output_type": "stream",
          "text": [
            "Input shape train:  (128, 10)\n",
            "Input shape val:  (128, 10)\n"
          ],
          "name": "stdout"
        }
      ]
    },
    {
      "cell_type": "code",
      "metadata": {
        "id": "k2FmIikihgAG",
        "colab_type": "code",
        "colab": {
          "base_uri": "https://localhost:8080/",
          "height": 68
        },
        "outputId": "4b847e55-ea67-4fe8-bc67-ee2bf7b63d60"
      },
      "source": [
        "min_data = df_used.values.min()\n",
        "max_data = df_used.values.max()\n",
        "print(\"minimum data series: \", min_data)\n",
        "print(\"maximum data series: \", max_data)\n",
        "mae_min = (max_data - min_data) * 0.1\n",
        "mae_min = abs(min_data + mae_min)\n",
        "print(\"minimum mae: \", mae_min)"
      ],
      "execution_count": 14,
      "outputs": [
        {
          "output_type": "stream",
          "text": [
            "minimum data series:  -13.93\n",
            "maximum data series:  37.28\n",
            "minimum mae:  8.809\n"
          ],
          "name": "stdout"
        }
      ]
    },
    {
      "cell_type": "code",
      "metadata": {
        "id": "dupCRWVJoauB",
        "colab_type": "code",
        "colab": {}
      },
      "source": [
        "class CustomCallback(Callback):\n",
        "\n",
        "  def __init__(self, min_mae=None, use_mae_stop=False):\n",
        "    self.min_mae = min_mae\n",
        "    self.use_mae_stop = use_mae_stop\n",
        "\n",
        "  def on_train_begin(self, logs={}):\n",
        "    self.times = []\n",
        "\n",
        "  def on_epoch_begin(self, epoch, logs={}):\n",
        "    self.epoch_time_start = time.time()\n",
        "\n",
        "  def on_epoch_end(self, epoch, logs={}):\n",
        "    self.times.append(time.time() - self.epoch_time_start)\n",
        "    if self.use_mae_stop==True:\n",
        "      if logs.get('mae')<self.min_mae:\n",
        "        self.model.stop_training = True\n",
        "\n",
        "# disini saya sengaja tidak menggunakan mae stop \n",
        "# meskipun sudah saya sediakan callback mae stop\n",
        "# hanya ingin eksperiment di beberapa iterasi saja\n",
        "cust_callback = CustomCallback()\n",
        "path_checkpoint = \"checkpoin_timerseries.h5\"\n",
        "es_callback = EarlyStopping(monitor=\"mae\", min_delta=0, patience=10)\n",
        "modelckpt_callback = ModelCheckpoint(\n",
        "    monitor=\"mae\",\n",
        "    filepath=path_checkpoint,\n",
        "    verbose=1,\n",
        "    mode='min',\n",
        "    save_best_only=True,\n",
        ")"
      ],
      "execution_count": 15,
      "outputs": []
    },
    {
      "cell_type": "code",
      "metadata": {
        "id": "o83S0S7ZGnXS",
        "colab_type": "code",
        "colab": {
          "base_uri": "https://localhost:8080/",
          "height": 323
        },
        "outputId": "81f637f1-98ba-4750-df3a-9d3fabb9ba9e"
      },
      "source": [
        "# LSTM featuring GRU\n",
        "model = Sequential()\n",
        "model.add(Dense(16, activation='relu', input_shape=(input_length, n_feature)))\n",
        "model.add(LSTM(16, return_sequences=True))\n",
        "model.add(LSTM(10, return_sequences=True))\n",
        "model.add(GRU(5))\n",
        "model.add(Dense(1))\n",
        "model.summary()"
      ],
      "execution_count": 16,
      "outputs": [
        {
          "output_type": "stream",
          "text": [
            "Model: \"sequential\"\n",
            "_________________________________________________________________\n",
            "Layer (type)                 Output Shape              Param #   \n",
            "=================================================================\n",
            "dense (Dense)                (None, 10, 16)            32        \n",
            "_________________________________________________________________\n",
            "lstm (LSTM)                  (None, 10, 16)            2112      \n",
            "_________________________________________________________________\n",
            "lstm_1 (LSTM)                (None, 10, 10)            1080      \n",
            "_________________________________________________________________\n",
            "gru (GRU)                    (None, 5)                 255       \n",
            "_________________________________________________________________\n",
            "dense_1 (Dense)              (None, 1)                 6         \n",
            "=================================================================\n",
            "Total params: 3,485\n",
            "Trainable params: 3,485\n",
            "Non-trainable params: 0\n",
            "_________________________________________________________________\n"
          ],
          "name": "stdout"
        }
      ]
    },
    {
      "cell_type": "code",
      "metadata": {
        "id": "-dP4ytyJLcUA",
        "colab_type": "code",
        "colab": {}
      },
      "source": [
        "learning_rate=0.001\n",
        "optimizer = Adam(learning_rate=learning_rate)\n",
        "model.compile(optimizer=optimizer, metrics=[\"mae\"], loss=Huber())"
      ],
      "execution_count": 17,
      "outputs": []
    },
    {
      "cell_type": "code",
      "metadata": {
        "id": "V8KvHOm_GrXh",
        "colab_type": "code",
        "colab": {
          "base_uri": "https://localhost:8080/",
          "height": 697
        },
        "outputId": "020ab33f-488a-43a6-9351-afa0c4801825"
      },
      "source": [
        "epochs = 10\n",
        "history = model.fit(\n",
        "  train_generator,\n",
        "  epochs=epochs,\n",
        "  validation_data=val_generator,\n",
        "  callbacks=[es_callback, modelckpt_callback, cust_callback],\n",
        ")"
      ],
      "execution_count": 18,
      "outputs": [
        {
          "output_type": "stream",
          "text": [
            "Epoch 1/10\n",
            "624/625 [============================>.] - ETA: 0s - loss: 0.0420 - mae: 0.1759\n",
            "Epoch 00001: mae improved from inf to 0.17578, saving model to checkpoin_timerseries.h5\n",
            "625/625 [==============================] - 10s 16ms/step - loss: 0.0419 - mae: 0.1758 - val_loss: 0.0088 - val_mae: 0.0921\n",
            "Epoch 2/10\n",
            "623/625 [============================>.] - ETA: 0s - loss: 0.0085 - mae: 0.0942\n",
            "Epoch 00002: mae improved from 0.17578 to 0.09412, saving model to checkpoin_timerseries.h5\n",
            "625/625 [==============================] - 9s 14ms/step - loss: 0.0085 - mae: 0.0941 - val_loss: 0.0057 - val_mae: 0.0806\n",
            "Epoch 3/10\n",
            "623/625 [============================>.] - ETA: 0s - loss: 0.0051 - mae: 0.0712\n",
            "Epoch 00003: mae improved from 0.09412 to 0.07118, saving model to checkpoin_timerseries.h5\n",
            "625/625 [==============================] - 9s 14ms/step - loss: 0.0050 - mae: 0.0712 - val_loss: 0.0024 - val_mae: 0.0500\n",
            "Epoch 4/10\n",
            "624/625 [============================>.] - ETA: 0s - loss: 0.0031 - mae: 0.0552\n",
            "Epoch 00004: mae improved from 0.07118 to 0.05517, saving model to checkpoin_timerseries.h5\n",
            "625/625 [==============================] - 9s 14ms/step - loss: 0.0031 - mae: 0.0552 - val_loss: 0.0014 - val_mae: 0.0363\n",
            "Epoch 5/10\n",
            "624/625 [============================>.] - ETA: 0s - loss: 0.0023 - mae: 0.0476\n",
            "Epoch 00005: mae improved from 0.05517 to 0.04763, saving model to checkpoin_timerseries.h5\n",
            "625/625 [==============================] - 9s 14ms/step - loss: 0.0023 - mae: 0.0476 - val_loss: 0.0012 - val_mae: 0.0324\n",
            "Epoch 6/10\n",
            "624/625 [============================>.] - ETA: 0s - loss: 0.0021 - mae: 0.0443\n",
            "Epoch 00006: mae improved from 0.04763 to 0.04427, saving model to checkpoin_timerseries.h5\n",
            "625/625 [==============================] - 9s 14ms/step - loss: 0.0021 - mae: 0.0443 - val_loss: 0.0020 - val_mae: 0.0445\n",
            "Epoch 7/10\n",
            "625/625 [==============================] - ETA: 0s - loss: 0.0018 - mae: 0.0402\n",
            "Epoch 00007: mae improved from 0.04427 to 0.04018, saving model to checkpoin_timerseries.h5\n",
            "625/625 [==============================] - 9s 14ms/step - loss: 0.0018 - mae: 0.0402 - val_loss: 0.0034 - val_mae: 0.0652\n",
            "Epoch 8/10\n",
            "622/625 [============================>.] - ETA: 0s - loss: 0.0014 - mae: 0.0356\n",
            "Epoch 00008: mae improved from 0.04018 to 0.03557, saving model to checkpoin_timerseries.h5\n",
            "625/625 [==============================] - 9s 14ms/step - loss: 0.0014 - mae: 0.0356 - val_loss: 7.2008e-04 - val_mae: 0.0258\n",
            "Epoch 9/10\n",
            "625/625 [==============================] - ETA: 0s - loss: 0.0014 - mae: 0.0350\n",
            "Epoch 00009: mae improved from 0.03557 to 0.03498, saving model to checkpoin_timerseries.h5\n",
            "625/625 [==============================] - 9s 14ms/step - loss: 0.0014 - mae: 0.0350 - val_loss: 6.1558e-04 - val_mae: 0.0235\n",
            "Epoch 10/10\n",
            "624/625 [============================>.] - ETA: 0s - loss: 0.0012 - mae: 0.0334\n",
            "Epoch 00010: mae improved from 0.03498 to 0.03339, saving model to checkpoin_timerseries.h5\n",
            "625/625 [==============================] - 9s 14ms/step - loss: 0.0012 - mae: 0.0334 - val_loss: 4.8879e-04 - val_mae: 0.0208\n"
          ],
          "name": "stdout"
        }
      ]
    },
    {
      "cell_type": "code",
      "metadata": {
        "id": "TP0VTF22NSiN",
        "colab_type": "code",
        "colab": {
          "base_uri": "https://localhost:8080/",
          "height": 320
        },
        "outputId": "912eab92-38f8-4874-f554-e5ee18a73c57"
      },
      "source": [
        "history_epoch = history.history\n",
        "loss = history_epoch['loss']\n",
        "mae = history_epoch['mae']\n",
        "val_loss = history_epoch['val_loss']\n",
        "val_mae = history_epoch['val_mae']\n",
        "epochs_range = range(1, len(history.epoch)+1)\n",
        "plt.figure(figsize=(20,5))\n",
        "plt.subplot(1,2,1)\n",
        "sns.lineplot(epochs_range, loss, label=\"loss\")\n",
        "sns.lineplot(epochs_range, val_loss, label=\"val_loss\")\n",
        "plt.legend()\n",
        "plt.subplot(1,2,2)\n",
        "sns.lineplot(epochs_range, mae, label=\"mae\")\n",
        "sns.lineplot(epochs_range, val_mae, label=\"val_mae\")\n",
        "plt.legend()\n",
        "plt.show()"
      ],
      "execution_count": 19,
      "outputs": [
        {
          "output_type": "display_data",
          "data": {
            "image/png": "[encoded data removed]",
            "text/plain": [
              "<Figure size 1440x360 with 2 Axes>"
            ]
          },
          "metadata": {
            "tags": [],
            "needs_background": "light"
          }
        }
      ]
    },
    {
      "cell_type": "code",
      "metadata": {
        "id": "1t3JgkbmyHa7",
        "colab_type": "code",
        "colab": {
          "base_uri": "https://localhost:8080/",
          "height": 54
        },
        "outputId": "144e7493-0619-4df7-c7ec-1848db05fed1"
      },
      "source": [
        "valPredict = model.predict(val_generator.data)"
      ],
      "execution_count": 20,
      "outputs": [
        {
          "output_type": "stream",
          "text": [
            "WARNING:tensorflow:Model was constructed with shape (None, 10, 1) for input Tensor(\"dense_input:0\", shape=(None, 10, 1), dtype=float32), but it was called on an input with incompatible shape (32, 1, 1).\n"
          ],
          "name": "stdout"
        }
      ]
    },
    {
      "cell_type": "code",
      "metadata": {
        "id": "8Z4c2SNTz9YI",
        "colab_type": "code",
        "colab": {}
      },
      "source": [
        "len_time = 50\n",
        "val_result = valPredict.reshape(-1)[:len_time]\n",
        "val_actual_target = val_generator.targets[:len_time]"
      ],
      "execution_count": 21,
      "outputs": []
    },
    {
      "cell_type": "code",
      "metadata": {
        "id": "CY6DTXV02iRq",
        "colab_type": "code",
        "colab": {
          "base_uri": "https://localhost:8080/",
          "height": 320
        },
        "outputId": "0831107a-c4e8-4c30-d3d2-c6ed778ab0c6"
      },
      "source": [
        "plot_time = range(1, len_time+1)\n",
        "plt.figure(figsize=(15,5))\n",
        "sns.lineplot(plot_time, val_result, label=\"prediksi\", marker=\"d\")\n",
        "sns.lineplot(plot_time, val_actual_target, label=\"aktual\", marker=\"o\")\n",
        "plt.show()"
      ],
      "execution_count": 22,
      "outputs": [
        {
          "output_type": "display_data",
          "data": {
            "image/png": "[encoded data removed]",
            "text/plain": [
              "<Figure size 1080x360 with 1 Axes>"
            ]
          },
          "metadata": {
            "tags": [],
            "needs_background": "light"
          }
        }
      ]
    },
    {
      "cell_type": "code",
      "metadata": {
        "id": "FTTsSD1M2PaP",
        "colab_type": "code",
        "colab": {
          "base_uri": "https://localhost:8080/",
          "height": 51
        },
        "outputId": "adf3c410-1dcc-45d3-d992-d6f937a4f237"
      },
      "source": [
        "print(\"mae minimum skala data: \",mae_min)\n",
        "print(\"mae hasil testing: \", mean_absolute_error(valPredict, val_generator.targets))"
      ],
      "execution_count": 23,
      "outputs": [
        {
          "output_type": "stream",
          "text": [
            "mae minimum skala data:  8.809\n",
            "mae hasil testing:  0.4612547393436837\n"
          ],
          "name": "stdout"
        }
      ]
    }
  ]
}