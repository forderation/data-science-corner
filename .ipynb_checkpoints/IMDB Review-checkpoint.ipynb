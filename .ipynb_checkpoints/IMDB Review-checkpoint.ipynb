{
 "cells": [
  {
   "cell_type": "code",
   "execution_count": 2,
   "metadata": {},
   "outputs": [],
   "source": [
    "from keras.datasets import imdb"
   ]
  },
  {
   "cell_type": "code",
   "execution_count": 3,
   "metadata": {},
   "outputs": [
    {
     "name": "stdout",
     "output_type": "stream",
     "text": [
      "Downloading data from https://s3.amazonaws.com/text-datasets/imdb.npz\n",
      "17465344/17464789 [==============================] - 22s 1us/step\n"
     ]
    }
   ],
   "source": [
    "(train_data, train_labels), (test_data, test_labels) = imdb.load_data(num_words=10000)"
   ]
  },
  {
   "cell_type": "markdown",
   "metadata": {},
   "source": [
    "each of sequence on train_data have different length but max length on it is 10000"
   ]
  },
  {
   "cell_type": "code",
   "execution_count": 33,
   "metadata": {},
   "outputs": [
    {
     "name": "stdout",
     "output_type": "stream",
     "text": [
      "(25000,)\n",
      "189\n",
      "9999\n"
     ]
    }
   ],
   "source": [
    "print(train_data.shape)\n",
    "print(len(train_data[1]))\n",
    "print(max([max(sequence) for sequence in train_data]))"
   ]
  },
  {
   "cell_type": "markdown",
   "metadata": {},
   "source": [
    "get indexing word to english "
   ]
  },
  {
   "cell_type": "code",
   "execution_count": 9,
   "metadata": {},
   "outputs": [
    {
     "name": "stdout",
     "output_type": "stream",
     "text": [
      "Downloading data from https://s3.amazonaws.com/text-datasets/imdb_word_index.json\n",
      "1646592/1641221 [==============================] - 3s 2us/step\n"
     ]
    }
   ],
   "source": [
    "word_index = imdb.get_word_index()\n",
    "reverse_word_index = dict([\n",
    "    (value,key) for (key,value) in word_index.items()\n",
    "])\n",
    "decoded_review = ' '.join(\n",
    "    [reverse_word_index.get(i-3, '?') for i in train_data[0]]\n",
    ")"
   ]
  },
  {
   "cell_type": "markdown",
   "metadata": {},
   "source": [
    "vectorize data to look like tensor shape (sample, word_indices) and data can train with tensorflow on keras"
   ]
  },
  {
   "cell_type": "code",
   "execution_count": 11,
   "metadata": {},
   "outputs": [],
   "source": [
    "import numpy as np"
   ]
  },
  {
   "cell_type": "code",
   "execution_count": 12,
   "metadata": {},
   "outputs": [],
   "source": [
    "def vectorize_sequences(sequences, dimension=10000):\n",
    "    results = np.zeros((len(sequences), dimension))\n",
    "    for i, sequence in enumerate(sequences):\n",
    "        results[i, sequence] = 1\n",
    "    return results"
   ]
  },
  {
   "cell_type": "code",
   "execution_count": 16,
   "metadata": {},
   "outputs": [],
   "source": [
    "x_train = vectorize_sequences(train_data)\n",
    "x_test = vectorize_sequences(test_data)"
   ]
  },
  {
   "cell_type": "code",
   "execution_count": 34,
   "metadata": {},
   "outputs": [],
   "source": [
    "y_train = np.asarray(train_labels).astype('float32')\n",
    "y_test = np.asarray(test_labels).astype('float32')"
   ]
  },
  {
   "cell_type": "markdown",
   "metadata": {},
   "source": [
    "build architecture that first layer receive input is 10000 same on how many atrributes have and output layers with node is one using sigmoid, one cause we not to encoding this label"
   ]
  },
  {
   "cell_type": "code",
   "execution_count": 36,
   "metadata": {},
   "outputs": [],
   "source": [
    "from keras import models\n",
    "from keras import layers"
   ]
  },
  {
   "cell_type": "code",
   "execution_count": 53,
   "metadata": {},
   "outputs": [],
   "source": [
    "model = models.Sequential()\n",
    "model.add(layers.Dense(8, activation='relu', input_shape=(10000,)))\n",
    "model.add(layers.Dense(4, activation='relu'))\n",
    "model.add(layers.Dense(1, activation='sigmoid'))"
   ]
  },
  {
   "cell_type": "code",
   "execution_count": 54,
   "metadata": {},
   "outputs": [],
   "source": [
    "model.compile(optimizer='rmsprop', loss='binary_crossentropy', metrics=['accuracy'])"
   ]
  },
  {
   "cell_type": "markdown",
   "metadata": {},
   "source": [
    "split train into validation_data"
   ]
  },
  {
   "cell_type": "code",
   "execution_count": 55,
   "metadata": {},
   "outputs": [],
   "source": [
    "x_val = x_train[:10000]\n",
    "partial_x_train = x_train[10000:]\n",
    "y_val = y_train[:10000]\n",
    "partial_y_train = y_train[10000:]"
   ]
  },
  {
   "cell_type": "code",
   "execution_count": 56,
   "metadata": {},
   "outputs": [
    {
     "name": "stdout",
     "output_type": "stream",
     "text": [
      "Train on 15000 samples, validate on 10000 samples\n",
      "Epoch 1/20\n",
      "15000/15000 [==============================] - 11s 739us/step - loss: 0.5864 - accuracy: 0.7858 - val_loss: 0.4999 - val_accuracy: 0.8385\n",
      "Epoch 2/20\n",
      "15000/15000 [==============================] - 9s 628us/step - loss: 0.4257 - accuracy: 0.8767 - val_loss: 0.4018 - val_accuracy: 0.8586\n",
      "Epoch 3/20\n",
      "15000/15000 [==============================] - 6s 376us/step - loss: 0.3304 - accuracy: 0.9001 - val_loss: 0.3418 - val_accuracy: 0.8742\n",
      "Epoch 4/20\n",
      "15000/15000 [==============================] - 4s 262us/step - loss: 0.2660 - accuracy: 0.9195 - val_loss: 0.3016 - val_accuracy: 0.8880\n",
      "Epoch 5/20\n",
      "15000/15000 [==============================] - 6s 421us/step - loss: 0.2215 - accuracy: 0.9300 - val_loss: 0.2833 - val_accuracy: 0.8900\n",
      "Epoch 6/20\n",
      "15000/15000 [==============================] - 4s 265us/step - loss: 0.1889 - accuracy: 0.9401 - val_loss: 0.2781 - val_accuracy: 0.8887\n",
      "Epoch 7/20\n",
      "15000/15000 [==============================] - 4s 275us/step - loss: 0.1642 - accuracy: 0.9480 - val_loss: 0.2729 - val_accuracy: 0.8920\n",
      "Epoch 8/20\n",
      "15000/15000 [==============================] - 4s 251us/step - loss: 0.1437 - accuracy: 0.9559 - val_loss: 0.2757 - val_accuracy: 0.8916\n",
      "Epoch 9/20\n",
      "15000/15000 [==============================] - 4s 246us/step - loss: 0.1270 - accuracy: 0.9607 - val_loss: 0.2823 - val_accuracy: 0.8888\n",
      "Epoch 10/20\n",
      "15000/15000 [==============================] - 4s 263us/step - loss: 0.1114 - accuracy: 0.9672 - val_loss: 0.2983 - val_accuracy: 0.8835\n",
      "Epoch 11/20\n",
      "15000/15000 [==============================] - 4s 276us/step - loss: 0.0993 - accuracy: 0.9707 - val_loss: 0.3025 - val_accuracy: 0.8855\n",
      "Epoch 12/20\n",
      "15000/15000 [==============================] - 4s 266us/step - loss: 0.0879 - accuracy: 0.9755 - val_loss: 0.3117 - val_accuracy: 0.8851\n",
      "Epoch 13/20\n",
      "15000/15000 [==============================] - 4s 249us/step - loss: 0.0771 - accuracy: 0.9797 - val_loss: 0.3374 - val_accuracy: 0.8777\n",
      "Epoch 14/20\n",
      "15000/15000 [==============================] - 4s 257us/step - loss: 0.0679 - accuracy: 0.9829 - val_loss: 0.3440 - val_accuracy: 0.8821\n",
      "Epoch 15/20\n",
      "15000/15000 [==============================] - 4s 244us/step - loss: 0.0598 - accuracy: 0.9849 - val_loss: 0.3610 - val_accuracy: 0.8817\n",
      "Epoch 16/20\n",
      "15000/15000 [==============================] - 4s 245us/step - loss: 0.0519 - accuracy: 0.9882 - val_loss: 0.3795 - val_accuracy: 0.8810\n",
      "Epoch 17/20\n",
      "15000/15000 [==============================] - 4s 246us/step - loss: 0.0444 - accuracy: 0.9901 - val_loss: 0.4054 - val_accuracy: 0.8786\n",
      "Epoch 18/20\n",
      "15000/15000 [==============================] - 4s 251us/step - loss: 0.0389 - accuracy: 0.9922 - val_loss: 0.4176 - val_accuracy: 0.8764\n",
      "Epoch 19/20\n",
      "15000/15000 [==============================] - 4s 240us/step - loss: 0.0334 - accuracy: 0.9933 - val_loss: 0.4427 - val_accuracy: 0.8753\n",
      "Epoch 20/20\n",
      "15000/15000 [==============================] - 4s 234us/step - loss: 0.0284 - accuracy: 0.9948 - val_loss: 0.4651 - val_accuracy: 0.8735\n"
     ]
    }
   ],
   "source": [
    "history = model.fit(\n",
    "    partial_x_train, \n",
    "    partial_y_train,\n",
    "    epochs = 20,\n",
    "    batch_size=512,\n",
    "    validation_data=(x_val,y_val)\n",
    ")"
   ]
  },
  {
   "cell_type": "markdown",
   "metadata": {},
   "source": [
    "get series value from training data"
   ]
  },
  {
   "cell_type": "code",
   "execution_count": 57,
   "metadata": {},
   "outputs": [
    {
     "data": {
      "text/plain": [
       "dict_keys(['val_loss', 'val_accuracy', 'loss', 'accuracy'])"
      ]
     },
     "execution_count": 57,
     "metadata": {},
     "output_type": "execute_result"
    }
   ],
   "source": [
    "history_dict = history.history\n",
    "history_dict.keys()"
   ]
  },
  {
   "cell_type": "markdown",
   "metadata": {},
   "source": [
    "plot data to get where we must have epoch on training which is have minimum loss and maximize accuracy"
   ]
  },
  {
   "cell_type": "code",
   "execution_count": 58,
   "metadata": {},
   "outputs": [
    {
     "data": {
      "image/png": "[encoded data removed]",
      "text/plain": [
       "<Figure size 432x288 with 1 Axes>"
      ]
     },
     "metadata": {
      "needs_background": "light"
     },
     "output_type": "display_data"
    }
   ],
   "source": [
    "import matplotlib.pyplot as plt\n",
    "loss_values = history_dict['loss']\n",
    "val_loss_values = history_dict['val_loss']\n",
    "acc = history_dict['accuracy']\n",
    "epochs = range(1, len(acc) + 1)\n",
    "plt.plot(epochs, loss_values, 'bo', label=\"Training Loss\")\n",
    "plt.plot(epochs, val_loss_values, 'b', label=\"Validation Loss\")\n",
    "plt.title('Training and Validation Loss')\n",
    "plt.xlabel('epochs')\n",
    "plt.ylabel('loss')\n",
    "plt.legend()\n",
    "plt.show()"
   ]
  },
  {
   "cell_type": "markdown",
   "metadata": {},
   "source": [
    "summary by plot with result picture on above, that model we have is overfitting when epoch goes to more than 3. so you can regularize and implement droppout to handle this"
   ]
  },
  {
   "cell_type": "code",
   "execution_count": 60,
   "metadata": {},
   "outputs": [
    {
     "data": {
      "image/png": "[encoded data removed]",
      "text/plain": [
       "<Figure size 432x288 with 1 Axes>"
      ]
     },
     "metadata": {
      "needs_background": "light"
     },
     "output_type": "display_data"
    }
   ],
   "source": [
    "# clear figure\n",
    "plt.clf() \n",
    "val_acc = history_dict['val_accuracy']\n",
    "plt.plot(epochs, acc, 'bo', label='Training acc')\n",
    "plt.plot(epochs, val_acc, 'b', label='Validation acc')\n",
    "plt.title('Training and validation accuracy')\n",
    "plt.xlabel('Epochs')\n",
    "plt.ylabel('Loss')\n",
    "plt.legend()\n",
    "plt.show()"
   ]
  },
  {
   "cell_type": "markdown",
   "metadata": {},
   "source": [
    "retrain model that we set the epoch max is 4"
   ]
  },
  {
   "cell_type": "code",
   "execution_count": 65,
   "metadata": {},
   "outputs": [
    {
     "name": "stdout",
     "output_type": "stream",
     "text": [
      "Epoch 1/4\n",
      "25000/25000 [==============================] - 13s 515us/step - loss: 0.4781 - accuracy: 0.8134\n",
      "Epoch 2/4\n",
      "25000/25000 [==============================] - 5s 186us/step - loss: 0.2794 - accuracy: 0.9076\n",
      "Epoch 3/4\n",
      "25000/25000 [==============================] - 4s 160us/step - loss: 0.2124 - accuracy: 0.9270\n",
      "Epoch 4/4\n",
      "25000/25000 [==============================] - 4s 156us/step - loss: 0.1776 - accuracy: 0.9376\n",
      "25000/25000 [==============================] - 13s 507us/step\n"
     ]
    }
   ],
   "source": [
    "model = models.Sequential()\n",
    "model.add(layers.Dense(8, activation='relu', input_shape=(10000,)))\n",
    "model.add(layers.Dense(8, activation='relu'))\n",
    "model.add(layers.Dense(1, activation='sigmoid'))\n",
    "model.compile(optimizer='rmsprop', loss='binary_crossentropy',\n",
    "             metrics=['accuracy'])\n",
    "model.fit(x_train, y_train, epochs=4, batch_size=512)\n",
    "results = model.evaluate(x_test, y_test)"
   ]
  },
  {
   "cell_type": "code",
   "execution_count": 66,
   "metadata": {},
   "outputs": [
    {
     "data": {
      "text/plain": [
       "[0.2864657559156418, 0.8847600221633911]"
      ]
     },
     "execution_count": 66,
     "metadata": {},
     "output_type": "execute_result"
    }
   ],
   "source": [
    "results"
   ]
  },
  {
   "cell_type": "markdown",
   "metadata": {},
   "source": [
    "from evaluating model on above we get 88% accuracy data when we heve try to prect on our test data, but we should able to get close to 93%"
   ]
  },
  {
   "cell_type": "code",
   "execution_count": null,
   "metadata": {},
   "outputs": [],
   "source": []
  }
 ],
 "metadata": {
  "kernelspec": {
   "display_name": "Python 3",
   "language": "python",
   "name": "python3"
  },
  "language_info": {
   "codemirror_mode": {
    "name": "ipython",
    "version": 3
   },
   "file_extension": ".py",
   "mimetype": "text/x-python",
   "name": "python",
   "nbconvert_exporter": "python",
   "pygments_lexer": "ipython3",
   "version": "3.7.3"
  }
 },
 "nbformat": 4,
 "nbformat_minor": 4
}
