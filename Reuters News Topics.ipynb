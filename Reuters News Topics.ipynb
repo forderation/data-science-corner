{
 "cells": [
  {
   "cell_type": "code",
   "execution_count": 2,
   "metadata": {},
   "outputs": [
    {
     "name": "stdout",
     "output_type": "stream",
     "text": [
      "Downloading data from https://s3.amazonaws.com/text-datasets/reuters.npz\n",
      "2113536/2110848 [==============================] - 2s 1us/step\n"
     ]
    }
   ],
   "source": [
    "from keras.datasets import reuters\n",
    "(train_data, train_labels), (test_data, test_labels) = reuters.load_data(num_words=10000)"
   ]
  },
  {
   "cell_type": "markdown",
   "metadata": {},
   "source": [
    "encoding data"
   ]
  },
  {
   "cell_type": "code",
   "execution_count": 3,
   "metadata": {},
   "outputs": [],
   "source": [
    "import numpy as np\n",
    "def vectorize_sequences(sequences, dimension=10000):\n",
    "    results = np.zeros((len(sequences),dimension))\n",
    "    for i, sequence in enumerate(sequences):\n",
    "        results[i, sequence] = 1\n",
    "    return results"
   ]
  },
  {
   "cell_type": "code",
   "execution_count": 9,
   "metadata": {},
   "outputs": [],
   "source": [
    "x_train = vectorize_sequences(train_data)\n",
    "x_test =  vectorize_sequences(test_data)"
   ]
  },
  {
   "cell_type": "markdown",
   "metadata": {},
   "source": [
    "build one hot encoding to categorical labels "
   ]
  },
  {
   "cell_type": "code",
   "execution_count": 12,
   "metadata": {},
   "outputs": [
    {
     "data": {
      "text/plain": [
       "array([ 3,  4,  3, ..., 25,  3, 25], dtype=int64)"
      ]
     },
     "execution_count": 12,
     "metadata": {},
     "output_type": "execute_result"
    }
   ],
   "source": [
    "train_labels"
   ]
  },
  {
   "cell_type": "code",
   "execution_count": 14,
   "metadata": {},
   "outputs": [],
   "source": [
    "def to_one_hot(labels, dimension=46):\n",
    "    results = np.zeros((len(labels), dimension))\n",
    "    for i, label in enumerate(labels):\n",
    "        results[i, label] = 1\n",
    "    return results"
   ]
  },
  {
   "cell_type": "code",
   "execution_count": 15,
   "metadata": {},
   "outputs": [],
   "source": [
    "one_hot_train_labels = to_one_hot(train_labels)\n",
    "one_hot_test_labels = to_one_hot(test_labels)"
   ]
  },
  {
   "cell_type": "markdown",
   "metadata": {},
   "source": [
    "model definition: on model definition do not make small node network on hidden layers than node on output layers, it can be bottleneck problems, so some information would be loss"
   ]
  },
  {
   "cell_type": "code",
   "execution_count": 16,
   "metadata": {},
   "outputs": [],
   "source": [
    "from keras import models\n",
    "from keras import layers\n",
    "model = models.Sequential()\n",
    "model.add(layers.Dense(64, activation='relu', input_shape=(10000,)))\n",
    "model.add(layers.Dense(64, activation='relu'))\n",
    "model.add(layers.Dense(46, activation='softmax'))"
   ]
  },
  {
   "cell_type": "code",
   "execution_count": 17,
   "metadata": {},
   "outputs": [],
   "source": [
    "model.compile(optimizer='rmsprop', loss='categorical_crossentropy',\n",
    "             metrics=['accuracy'])"
   ]
  },
  {
   "cell_type": "markdown",
   "metadata": {},
   "source": [
    "split train into validation to evaluate models"
   ]
  },
  {
   "cell_type": "code",
   "execution_count": 21,
   "metadata": {},
   "outputs": [],
   "source": [
    "x_val = x_train[:1000]\n",
    "partial_x_train = x_train[1000:]\n",
    "y_val = one_hot_train_labels[:1000]\n",
    "partial_y_train = one_hot_train_labels[1000:]"
   ]
  },
  {
   "cell_type": "code",
   "execution_count": 22,
   "metadata": {},
   "outputs": [
    {
     "name": "stdout",
     "output_type": "stream",
     "text": [
      "Train on 7982 samples, validate on 1000 samples\n",
      "Epoch 1/20\n",
      "7982/7982 [==============================] - 4s 549us/step - loss: 2.7333 - accuracy: 0.4714 - val_loss: 1.7619 - val_accuracy: 0.6290\n",
      "Epoch 2/20\n",
      "7982/7982 [==============================] - 2s 235us/step - loss: 1.4497 - accuracy: 0.7020 - val_loss: 1.3258 - val_accuracy: 0.7110\n",
      "Epoch 3/20\n",
      "7982/7982 [==============================] - 2s 219us/step - loss: 1.0778 - accuracy: 0.7676 - val_loss: 1.1495 - val_accuracy: 0.7570\n",
      "Epoch 4/20\n",
      "7982/7982 [==============================] - 2s 253us/step - loss: 0.8571 - accuracy: 0.8170 - val_loss: 1.0701 - val_accuracy: 0.7680\n",
      "Epoch 5/20\n",
      "7982/7982 [==============================] - 2s 245us/step - loss: 0.6859 - accuracy: 0.8567 - val_loss: 0.9741 - val_accuracy: 0.7960\n",
      "Epoch 6/20\n",
      "7982/7982 [==============================] - 2s 240us/step - loss: 0.5564 - accuracy: 0.8789 - val_loss: 0.9420 - val_accuracy: 0.8050\n",
      "Epoch 7/20\n",
      "7982/7982 [==============================] - 2s 217us/step - loss: 0.4481 - accuracy: 0.9078 - val_loss: 0.9146 - val_accuracy: 0.8130\n",
      "Epoch 8/20\n",
      "7982/7982 [==============================] - 2s 221us/step - loss: 0.3648 - accuracy: 0.9248 - val_loss: 0.8875 - val_accuracy: 0.8230\n",
      "Epoch 9/20\n",
      "7982/7982 [==============================] - 2s 217us/step - loss: 0.3005 - accuracy: 0.9349 - val_loss: 0.8804 - val_accuracy: 0.8220\n",
      "Epoch 10/20\n",
      "7982/7982 [==============================] - 2s 239us/step - loss: 0.2535 - accuracy: 0.9421 - val_loss: 0.8822 - val_accuracy: 0.8190\n",
      "Epoch 11/20\n",
      "7982/7982 [==============================] - 2s 217us/step - loss: 0.2143 - accuracy: 0.9469 - val_loss: 0.9208 - val_accuracy: 0.8180\n",
      "Epoch 12/20\n",
      "7982/7982 [==============================] - 2s 218us/step - loss: 0.1876 - accuracy: 0.9519 - val_loss: 0.9389 - val_accuracy: 0.8140\n",
      "Epoch 13/20\n",
      "7982/7982 [==============================] - 2s 226us/step - loss: 0.1681 - accuracy: 0.9538 - val_loss: 0.9702 - val_accuracy: 0.8040\n",
      "Epoch 14/20\n",
      "7982/7982 [==============================] - 2s 209us/step - loss: 0.1494 - accuracy: 0.9535 - val_loss: 0.9644 - val_accuracy: 0.8080\n",
      "Epoch 15/20\n",
      "7982/7982 [==============================] - 2s 203us/step - loss: 0.1429 - accuracy: 0.9562 - val_loss: 1.0420 - val_accuracy: 0.7950\n",
      "Epoch 16/20\n",
      "7982/7982 [==============================] - 2s 205us/step - loss: 0.1322 - accuracy: 0.9560 - val_loss: 1.0177 - val_accuracy: 0.8150\n",
      "Epoch 17/20\n",
      "7982/7982 [==============================] - 2s 222us/step - loss: 0.1301 - accuracy: 0.9563 - val_loss: 1.0198 - val_accuracy: 0.8110\n",
      "Epoch 18/20\n",
      "7982/7982 [==============================] - 2s 207us/step - loss: 0.1172 - accuracy: 0.9570 - val_loss: 1.0587 - val_accuracy: 0.8020\n",
      "Epoch 19/20\n",
      "7982/7982 [==============================] - 2s 207us/step - loss: 0.1173 - accuracy: 0.9583 - val_loss: 1.1250 - val_accuracy: 0.7900\n",
      "Epoch 20/20\n",
      "7982/7982 [==============================] - 2s 209us/step - loss: 0.1101 - accuracy: 0.9577 - val_loss: 1.0764 - val_accuracy: 0.8180\n"
     ]
    }
   ],
   "source": [
    "history = model.fit(partial_x_train, partial_y_train, \n",
    "                   epochs=20,\n",
    "                   batch_size=512,\n",
    "                   validation_data=(x_val, y_val))"
   ]
  },
  {
   "cell_type": "code",
   "execution_count": 24,
   "metadata": {},
   "outputs": [
    {
     "data": {
      "image/png": "[encoded data removed]",
      "text/plain": [
       "<Figure size 432x288 with 1 Axes>"
      ]
     },
     "metadata": {
      "needs_background": "light"
     },
     "output_type": "display_data"
    }
   ],
   "source": [
    "import matplotlib.pyplot as plt\n",
    "loss = history.history['loss']\n",
    "val_loss = history.history['val_loss']\n",
    "epochs = range(1, len(loss) + 1)\n",
    "plt.plot(epochs, loss, 'bo', label='Training loss')\n",
    "plt.plot(epochs, val_loss, 'b', label='Validation loss')\n",
    "plt.title('Training and validation loss')\n",
    "plt.xlabel('Epochs')\n",
    "plt.ylabel('Loss')\n",
    "plt.legend()\n",
    "plt.show()"
   ]
  },
  {
   "cell_type": "code",
   "execution_count": 27,
   "metadata": {},
   "outputs": [
    {
     "data": {
      "image/png": "[encoded data removed]",
      "text/plain": [
       "<Figure size 432x288 with 1 Axes>"
      ]
     },
     "metadata": {
      "needs_background": "light"
     },
     "output_type": "display_data"
    }
   ],
   "source": [
    "plt.clf()\n",
    "acc = history.history['accuracy']\n",
    "val_acc = history.history['val_accuracy']\n",
    "plt.plot(epochs, acc, 'bo', label=\"Training acc\")\n",
    "plt.plot(epochs, val_acc, 'b', label=\"Validation acc\")\n",
    "plt.title('Training and validation accuracy')\n",
    "plt.xlabel('Epochs')\n",
    "plt.ylabel('Loss')\n",
    "plt.legend()\n",
    "plt.show()"
   ]
  },
  {
   "cell_type": "markdown",
   "metadata": {},
   "source": [
    "retrain a already model but we limit epochs to 9 cause overfitting happen after nine epoch, and test model on neverseen data test"
   ]
  },
  {
   "cell_type": "code",
   "execution_count": 31,
   "metadata": {},
   "outputs": [
    {
     "name": "stdout",
     "output_type": "stream",
     "text": [
      "Train on 7982 samples, validate on 1000 samples\n",
      "Epoch 1/9\n",
      "7982/7982 [==============================] - 2s 304us/step - loss: 2.5821 - accuracy: 0.4952 - val_loss: 1.7511 - val_accuracy: 0.6390\n",
      "Epoch 2/9\n",
      "7982/7982 [==============================] - 2s 228us/step - loss: 1.3972 - accuracy: 0.7050 - val_loss: 1.2982 - val_accuracy: 0.7190\n",
      "Epoch 3/9\n",
      "7982/7982 [==============================] - 2s 245us/step - loss: 1.0275 - accuracy: 0.7808 - val_loss: 1.1072 - val_accuracy: 0.7640\n",
      "Epoch 4/9\n",
      "7982/7982 [==============================] - 2s 238us/step - loss: 0.8011 - accuracy: 0.8350 - val_loss: 1.0119 - val_accuracy: 0.7910\n",
      "Epoch 5/9\n",
      "7982/7982 [==============================] - 2s 262us/step - loss: 0.6405 - accuracy: 0.8705 - val_loss: 0.9423 - val_accuracy: 0.7950\n",
      "Epoch 6/9\n",
      "7982/7982 [==============================] - 2s 228us/step - loss: 0.5083 - accuracy: 0.8998 - val_loss: 0.8735 - val_accuracy: 0.8190\n",
      "Epoch 7/9\n",
      "7982/7982 [==============================] - 2s 235us/step - loss: 0.4059 - accuracy: 0.9186 - val_loss: 0.8781 - val_accuracy: 0.8120\n",
      "Epoch 8/9\n",
      "7982/7982 [==============================] - 2s 260us/step - loss: 0.3322 - accuracy: 0.9296 - val_loss: 0.8781 - val_accuracy: 0.8100\n",
      "Epoch 9/9\n",
      "7982/7982 [==============================] - 2s 232us/step - loss: 0.2792 - accuracy: 0.9406 - val_loss: 0.8897 - val_accuracy: 0.8040\n",
      "2246/2246 [==============================] - 1s 506us/step\n"
     ]
    }
   ],
   "source": [
    "model = models.Sequential()\n",
    "model.add(layers.Dense(64, activation='relu', input_shape=(10000,)))\n",
    "model.add(layers.Dense(64, activation='relu'))\n",
    "model.add(layers.Dense(46, activation='softmax'))\n",
    "model.compile(optimizer='rmsprop', loss='categorical_crossentropy',\n",
    "             metrics=['accuracy'])\n",
    "model.fit(partial_x_train, partial_y_train,\n",
    "         epochs=9, batch_size=512,\n",
    "         validation_data=(x_val, y_val))\n",
    "results = model.evaluate(x_test, one_hot_test_labels)"
   ]
  },
  {
   "cell_type": "code",
   "execution_count": 32,
   "metadata": {},
   "outputs": [
    {
     "data": {
      "text/plain": [
       "[1.0003737140105222, 0.7818343639373779]"
      ]
     },
     "execution_count": 32,
     "metadata": {},
     "output_type": "execute_result"
    }
   ],
   "source": [
    "results"
   ]
  },
  {
   "cell_type": "markdown",
   "metadata": {},
   "source": [
    "there are two ways to handle labels in multiclass classification:\n",
    "- encoding the labels via categorical encoding (also known as one-hot-encoding) using categorical_crossentropy as a loss function\n",
    "- encoding labels as integers using sparse_categorical_crossentropy loss function"
   ]
  },
  {
   "cell_type": "code",
   "execution_count": null,
   "metadata": {},
   "outputs": [],
   "source": []
  }
 ],
 "metadata": {
  "kernelspec": {
   "display_name": "Python 3",
   "language": "python",
   "name": "python3"
  },
  "language_info": {
   "codemirror_mode": {
    "name": "ipython",
    "version": 3
   },
   "file_extension": ".py",
   "mimetype": "text/x-python",
   "name": "python",
   "nbconvert_exporter": "python",
   "pygments_lexer": "ipython3",
   "version": "3.7.3"
  }
 },
 "nbformat": 4,
 "nbformat_minor": 4
}
